{
 "cells": [
  {
   "cell_type": "markdown",
   "metadata": {},
   "source": [
    "<font Color = \"MediumVioletRed\"  size=\"4\"> Data Science </font>"
   ]
  },
  {
   "cell_type": "markdown",
   "metadata": {
    "id": "lxAGdIf4WCf9"
   },
   "source": [
    "<font size=\"3\">Importing Libraries </font>"
   ]
  },
  {
   "cell_type": "code",
   "execution_count": 126,
   "metadata": {
    "execution": {
     "iopub.execute_input": "2021-11-09T03:52:39.184766Z",
     "iopub.status.busy": "2021-11-09T03:52:39.184392Z",
     "iopub.status.idle": "2021-11-09T03:52:42.854415Z",
     "shell.execute_reply": "2021-11-09T03:52:42.853461Z",
     "shell.execute_reply.started": "2021-11-09T03:52:39.184683Z"
    },
    "id": "MaRfXcwmWCf-"
   },
   "outputs": [],
   "source": [
    "import numpy as np\n",
    "import pandas as pd\n",
    "import matplotlib.pyplot as plt\n",
    "import seaborn as sns\n",
    "import warnings\n",
    "from sklearn.metrics import recall_score\n",
    "from xgboost import XGBClassifier\n",
    "import xgboost as xgb\n"
   ]
  },
  {
   "cell_type": "markdown",
   "metadata": {
    "id": "wiqR3IVrWCf_"
   },
   "source": [
    "<font size=\"3\">Data Preprocessing</font>"
   ]
  },
  {
   "cell_type": "code",
   "execution_count": 127,
   "metadata": {
    "colab": {
     "base_uri": "https://localhost:8080/",
     "height": 678
    },
    "execution": {
     "iopub.execute_input": "2021-11-09T03:52:42.857217Z",
     "iopub.status.busy": "2021-11-09T03:52:42.856983Z",
     "iopub.status.idle": "2021-11-09T03:52:42.979575Z",
     "shell.execute_reply": "2021-11-09T03:52:42.978591Z",
     "shell.execute_reply.started": "2021-11-09T03:52:42.857189Z"
    },
    "id": "fgRzyryAWCf_",
    "outputId": "25829271-b8ae-43e4-cad9-4d95ad721db5"
   },
   "outputs": [
    {
     "data": {
      "text/html": [
       "<div>\n",
       "<style scoped>\n",
       "    .dataframe tbody tr th:only-of-type {\n",
       "        vertical-align: middle;\n",
       "    }\n",
       "\n",
       "    .dataframe tbody tr th {\n",
       "        vertical-align: top;\n",
       "    }\n",
       "\n",
       "    .dataframe thead th {\n",
       "        text-align: right;\n",
       "    }\n",
       "</style>\n",
       "<table border=\"1\" class=\"dataframe\">\n",
       "  <thead>\n",
       "    <tr style=\"text-align: right;\">\n",
       "      <th></th>\n",
       "      <th>customerID</th>\n",
       "      <th>gender</th>\n",
       "      <th>SeniorCitizen</th>\n",
       "      <th>Partner</th>\n",
       "      <th>Dependents</th>\n",
       "      <th>tenure</th>\n",
       "      <th>PhoneService</th>\n",
       "      <th>MultipleLines</th>\n",
       "      <th>InternetService</th>\n",
       "      <th>OnlineSecurity</th>\n",
       "      <th>...</th>\n",
       "      <th>DeviceProtection</th>\n",
       "      <th>TechSupport</th>\n",
       "      <th>StreamingTV</th>\n",
       "      <th>StreamingMovies</th>\n",
       "      <th>Contract</th>\n",
       "      <th>PaperlessBilling</th>\n",
       "      <th>PaymentMethod</th>\n",
       "      <th>MonthlyCharges</th>\n",
       "      <th>TotalCharges</th>\n",
       "      <th>Churn</th>\n",
       "    </tr>\n",
       "  </thead>\n",
       "  <tbody>\n",
       "    <tr>\n",
       "      <th>0</th>\n",
       "      <td>7590-VHVEG</td>\n",
       "      <td>Female</td>\n",
       "      <td>0</td>\n",
       "      <td>Yes</td>\n",
       "      <td>No</td>\n",
       "      <td>1</td>\n",
       "      <td>No</td>\n",
       "      <td>No phone service</td>\n",
       "      <td>DSL</td>\n",
       "      <td>No</td>\n",
       "      <td>...</td>\n",
       "      <td>No</td>\n",
       "      <td>No</td>\n",
       "      <td>No</td>\n",
       "      <td>No</td>\n",
       "      <td>Month-to-month</td>\n",
       "      <td>Yes</td>\n",
       "      <td>Electronic check</td>\n",
       "      <td>29.85</td>\n",
       "      <td>29.85</td>\n",
       "      <td>No</td>\n",
       "    </tr>\n",
       "    <tr>\n",
       "      <th>1</th>\n",
       "      <td>5575-GNVDE</td>\n",
       "      <td>Male</td>\n",
       "      <td>0</td>\n",
       "      <td>No</td>\n",
       "      <td>No</td>\n",
       "      <td>34</td>\n",
       "      <td>Yes</td>\n",
       "      <td>No</td>\n",
       "      <td>DSL</td>\n",
       "      <td>Yes</td>\n",
       "      <td>...</td>\n",
       "      <td>Yes</td>\n",
       "      <td>No</td>\n",
       "      <td>No</td>\n",
       "      <td>No</td>\n",
       "      <td>One year</td>\n",
       "      <td>No</td>\n",
       "      <td>Mailed check</td>\n",
       "      <td>56.95</td>\n",
       "      <td>1889.5</td>\n",
       "      <td>No</td>\n",
       "    </tr>\n",
       "    <tr>\n",
       "      <th>2</th>\n",
       "      <td>3668-QPYBK</td>\n",
       "      <td>Male</td>\n",
       "      <td>0</td>\n",
       "      <td>No</td>\n",
       "      <td>No</td>\n",
       "      <td>2</td>\n",
       "      <td>Yes</td>\n",
       "      <td>No</td>\n",
       "      <td>DSL</td>\n",
       "      <td>Yes</td>\n",
       "      <td>...</td>\n",
       "      <td>No</td>\n",
       "      <td>No</td>\n",
       "      <td>No</td>\n",
       "      <td>No</td>\n",
       "      <td>Month-to-month</td>\n",
       "      <td>Yes</td>\n",
       "      <td>Mailed check</td>\n",
       "      <td>53.85</td>\n",
       "      <td>108.15</td>\n",
       "      <td>Yes</td>\n",
       "    </tr>\n",
       "    <tr>\n",
       "      <th>3</th>\n",
       "      <td>7795-CFOCW</td>\n",
       "      <td>Male</td>\n",
       "      <td>0</td>\n",
       "      <td>No</td>\n",
       "      <td>No</td>\n",
       "      <td>45</td>\n",
       "      <td>No</td>\n",
       "      <td>No phone service</td>\n",
       "      <td>DSL</td>\n",
       "      <td>Yes</td>\n",
       "      <td>...</td>\n",
       "      <td>Yes</td>\n",
       "      <td>Yes</td>\n",
       "      <td>No</td>\n",
       "      <td>No</td>\n",
       "      <td>One year</td>\n",
       "      <td>No</td>\n",
       "      <td>Bank transfer (automatic)</td>\n",
       "      <td>42.30</td>\n",
       "      <td>1840.75</td>\n",
       "      <td>No</td>\n",
       "    </tr>\n",
       "    <tr>\n",
       "      <th>4</th>\n",
       "      <td>9237-HQITU</td>\n",
       "      <td>Female</td>\n",
       "      <td>0</td>\n",
       "      <td>No</td>\n",
       "      <td>No</td>\n",
       "      <td>2</td>\n",
       "      <td>Yes</td>\n",
       "      <td>No</td>\n",
       "      <td>Fiber optic</td>\n",
       "      <td>No</td>\n",
       "      <td>...</td>\n",
       "      <td>No</td>\n",
       "      <td>No</td>\n",
       "      <td>No</td>\n",
       "      <td>No</td>\n",
       "      <td>Month-to-month</td>\n",
       "      <td>Yes</td>\n",
       "      <td>Electronic check</td>\n",
       "      <td>70.70</td>\n",
       "      <td>151.65</td>\n",
       "      <td>Yes</td>\n",
       "    </tr>\n",
       "    <tr>\n",
       "      <th>...</th>\n",
       "      <td>...</td>\n",
       "      <td>...</td>\n",
       "      <td>...</td>\n",
       "      <td>...</td>\n",
       "      <td>...</td>\n",
       "      <td>...</td>\n",
       "      <td>...</td>\n",
       "      <td>...</td>\n",
       "      <td>...</td>\n",
       "      <td>...</td>\n",
       "      <td>...</td>\n",
       "      <td>...</td>\n",
       "      <td>...</td>\n",
       "      <td>...</td>\n",
       "      <td>...</td>\n",
       "      <td>...</td>\n",
       "      <td>...</td>\n",
       "      <td>...</td>\n",
       "      <td>...</td>\n",
       "      <td>...</td>\n",
       "      <td>...</td>\n",
       "    </tr>\n",
       "    <tr>\n",
       "      <th>7038</th>\n",
       "      <td>6840-RESVB</td>\n",
       "      <td>Male</td>\n",
       "      <td>0</td>\n",
       "      <td>Yes</td>\n",
       "      <td>Yes</td>\n",
       "      <td>24</td>\n",
       "      <td>Yes</td>\n",
       "      <td>Yes</td>\n",
       "      <td>DSL</td>\n",
       "      <td>Yes</td>\n",
       "      <td>...</td>\n",
       "      <td>Yes</td>\n",
       "      <td>Yes</td>\n",
       "      <td>Yes</td>\n",
       "      <td>Yes</td>\n",
       "      <td>One year</td>\n",
       "      <td>Yes</td>\n",
       "      <td>Mailed check</td>\n",
       "      <td>84.80</td>\n",
       "      <td>1990.5</td>\n",
       "      <td>No</td>\n",
       "    </tr>\n",
       "    <tr>\n",
       "      <th>7039</th>\n",
       "      <td>2234-XADUH</td>\n",
       "      <td>Female</td>\n",
       "      <td>0</td>\n",
       "      <td>Yes</td>\n",
       "      <td>Yes</td>\n",
       "      <td>72</td>\n",
       "      <td>Yes</td>\n",
       "      <td>Yes</td>\n",
       "      <td>Fiber optic</td>\n",
       "      <td>No</td>\n",
       "      <td>...</td>\n",
       "      <td>Yes</td>\n",
       "      <td>No</td>\n",
       "      <td>Yes</td>\n",
       "      <td>Yes</td>\n",
       "      <td>One year</td>\n",
       "      <td>Yes</td>\n",
       "      <td>Credit card (automatic)</td>\n",
       "      <td>103.20</td>\n",
       "      <td>7362.9</td>\n",
       "      <td>No</td>\n",
       "    </tr>\n",
       "    <tr>\n",
       "      <th>7040</th>\n",
       "      <td>4801-JZAZL</td>\n",
       "      <td>Female</td>\n",
       "      <td>0</td>\n",
       "      <td>Yes</td>\n",
       "      <td>Yes</td>\n",
       "      <td>11</td>\n",
       "      <td>No</td>\n",
       "      <td>No phone service</td>\n",
       "      <td>DSL</td>\n",
       "      <td>Yes</td>\n",
       "      <td>...</td>\n",
       "      <td>No</td>\n",
       "      <td>No</td>\n",
       "      <td>No</td>\n",
       "      <td>No</td>\n",
       "      <td>Month-to-month</td>\n",
       "      <td>Yes</td>\n",
       "      <td>Electronic check</td>\n",
       "      <td>29.60</td>\n",
       "      <td>346.45</td>\n",
       "      <td>No</td>\n",
       "    </tr>\n",
       "    <tr>\n",
       "      <th>7041</th>\n",
       "      <td>8361-LTMKD</td>\n",
       "      <td>Male</td>\n",
       "      <td>1</td>\n",
       "      <td>Yes</td>\n",
       "      <td>No</td>\n",
       "      <td>4</td>\n",
       "      <td>Yes</td>\n",
       "      <td>Yes</td>\n",
       "      <td>Fiber optic</td>\n",
       "      <td>No</td>\n",
       "      <td>...</td>\n",
       "      <td>No</td>\n",
       "      <td>No</td>\n",
       "      <td>No</td>\n",
       "      <td>No</td>\n",
       "      <td>Month-to-month</td>\n",
       "      <td>Yes</td>\n",
       "      <td>Mailed check</td>\n",
       "      <td>74.40</td>\n",
       "      <td>306.6</td>\n",
       "      <td>Yes</td>\n",
       "    </tr>\n",
       "    <tr>\n",
       "      <th>7042</th>\n",
       "      <td>3186-AJIEK</td>\n",
       "      <td>Male</td>\n",
       "      <td>0</td>\n",
       "      <td>No</td>\n",
       "      <td>No</td>\n",
       "      <td>66</td>\n",
       "      <td>Yes</td>\n",
       "      <td>No</td>\n",
       "      <td>Fiber optic</td>\n",
       "      <td>Yes</td>\n",
       "      <td>...</td>\n",
       "      <td>Yes</td>\n",
       "      <td>Yes</td>\n",
       "      <td>Yes</td>\n",
       "      <td>Yes</td>\n",
       "      <td>Two year</td>\n",
       "      <td>Yes</td>\n",
       "      <td>Bank transfer (automatic)</td>\n",
       "      <td>105.65</td>\n",
       "      <td>6844.5</td>\n",
       "      <td>No</td>\n",
       "    </tr>\n",
       "  </tbody>\n",
       "</table>\n",
       "<p>7043 rows × 21 columns</p>\n",
       "</div>"
      ],
      "text/plain": [
       "      customerID  gender  SeniorCitizen Partner Dependents  tenure  \\\n",
       "0     7590-VHVEG  Female              0     Yes         No       1   \n",
       "1     5575-GNVDE    Male              0      No         No      34   \n",
       "2     3668-QPYBK    Male              0      No         No       2   \n",
       "3     7795-CFOCW    Male              0      No         No      45   \n",
       "4     9237-HQITU  Female              0      No         No       2   \n",
       "...          ...     ...            ...     ...        ...     ...   \n",
       "7038  6840-RESVB    Male              0     Yes        Yes      24   \n",
       "7039  2234-XADUH  Female              0     Yes        Yes      72   \n",
       "7040  4801-JZAZL  Female              0     Yes        Yes      11   \n",
       "7041  8361-LTMKD    Male              1     Yes         No       4   \n",
       "7042  3186-AJIEK    Male              0      No         No      66   \n",
       "\n",
       "     PhoneService     MultipleLines InternetService OnlineSecurity  ...  \\\n",
       "0              No  No phone service             DSL             No  ...   \n",
       "1             Yes                No             DSL            Yes  ...   \n",
       "2             Yes                No             DSL            Yes  ...   \n",
       "3              No  No phone service             DSL            Yes  ...   \n",
       "4             Yes                No     Fiber optic             No  ...   \n",
       "...           ...               ...             ...            ...  ...   \n",
       "7038          Yes               Yes             DSL            Yes  ...   \n",
       "7039          Yes               Yes     Fiber optic             No  ...   \n",
       "7040           No  No phone service             DSL            Yes  ...   \n",
       "7041          Yes               Yes     Fiber optic             No  ...   \n",
       "7042          Yes                No     Fiber optic            Yes  ...   \n",
       "\n",
       "     DeviceProtection TechSupport StreamingTV StreamingMovies        Contract  \\\n",
       "0                  No          No          No              No  Month-to-month   \n",
       "1                 Yes          No          No              No        One year   \n",
       "2                  No          No          No              No  Month-to-month   \n",
       "3                 Yes         Yes          No              No        One year   \n",
       "4                  No          No          No              No  Month-to-month   \n",
       "...               ...         ...         ...             ...             ...   \n",
       "7038              Yes         Yes         Yes             Yes        One year   \n",
       "7039              Yes          No         Yes             Yes        One year   \n",
       "7040               No          No          No              No  Month-to-month   \n",
       "7041               No          No          No              No  Month-to-month   \n",
       "7042              Yes         Yes         Yes             Yes        Two year   \n",
       "\n",
       "     PaperlessBilling              PaymentMethod MonthlyCharges  TotalCharges  \\\n",
       "0                 Yes           Electronic check          29.85         29.85   \n",
       "1                  No               Mailed check          56.95        1889.5   \n",
       "2                 Yes               Mailed check          53.85        108.15   \n",
       "3                  No  Bank transfer (automatic)          42.30       1840.75   \n",
       "4                 Yes           Electronic check          70.70        151.65   \n",
       "...               ...                        ...            ...           ...   \n",
       "7038              Yes               Mailed check          84.80        1990.5   \n",
       "7039              Yes    Credit card (automatic)         103.20        7362.9   \n",
       "7040              Yes           Electronic check          29.60        346.45   \n",
       "7041              Yes               Mailed check          74.40         306.6   \n",
       "7042              Yes  Bank transfer (automatic)         105.65        6844.5   \n",
       "\n",
       "     Churn  \n",
       "0       No  \n",
       "1       No  \n",
       "2      Yes  \n",
       "3       No  \n",
       "4      Yes  \n",
       "...    ...  \n",
       "7038    No  \n",
       "7039    No  \n",
       "7040    No  \n",
       "7041   Yes  \n",
       "7042    No  \n",
       "\n",
       "[7043 rows x 21 columns]"
      ]
     },
     "execution_count": 127,
     "metadata": {},
     "output_type": "execute_result"
    }
   ],
   "source": [
    "#read csv into dataframe and display\n",
    "df = pd.read_csv('C:/Users/kiran/OneDrive/Desktop/Data Science/telco-customer-churn.csv')\n",
    "df"
   ]
  },
  {
   "cell_type": "code",
   "execution_count": 128,
   "metadata": {
    "colab": {
     "base_uri": "https://localhost:8080/"
    },
    "execution": {
     "iopub.execute_input": "2021-11-09T03:52:43.055811Z",
     "iopub.status.busy": "2021-11-09T03:52:43.055339Z",
     "iopub.status.idle": "2021-11-09T03:52:43.065207Z",
     "shell.execute_reply": "2021-11-09T03:52:43.064137Z",
     "shell.execute_reply.started": "2021-11-09T03:52:43.055751Z"
    },
    "id": "NH18YFTGWCgC",
    "outputId": "480ae114-b395-4a26-aaaa-c7eef4fa239a"
   },
   "outputs": [
    {
     "data": {
      "text/plain": [
       "customerID           object\n",
       "gender               object\n",
       "SeniorCitizen         int64\n",
       "Partner              object\n",
       "Dependents           object\n",
       "tenure                int64\n",
       "PhoneService         object\n",
       "MultipleLines        object\n",
       "InternetService      object\n",
       "OnlineSecurity       object\n",
       "OnlineBackup         object\n",
       "DeviceProtection     object\n",
       "TechSupport          object\n",
       "StreamingTV          object\n",
       "StreamingMovies      object\n",
       "Contract             object\n",
       "PaperlessBilling     object\n",
       "PaymentMethod        object\n",
       "MonthlyCharges      float64\n",
       "TotalCharges         object\n",
       "Churn                object\n",
       "dtype: object"
      ]
     },
     "execution_count": 128,
     "metadata": {},
     "output_type": "execute_result"
    }
   ],
   "source": [
    "#list the datatypes of all the columns\n",
    "df.dtypes"
   ]
  },
  {
   "cell_type": "code",
   "execution_count": 129,
   "metadata": {
    "colab": {
     "base_uri": "https://localhost:8080/"
    },
    "execution": {
     "iopub.execute_input": "2021-11-09T03:52:43.067769Z",
     "iopub.status.busy": "2021-11-09T03:52:43.067117Z",
     "iopub.status.idle": "2021-11-09T03:52:43.076918Z",
     "shell.execute_reply": "2021-11-09T03:52:43.075769Z",
     "shell.execute_reply.started": "2021-11-09T03:52:43.067723Z"
    },
    "id": "r8w4OFwUWCgC",
    "outputId": "b053da1e-387b-4ff0-854b-4db8b5b1544c"
   },
   "outputs": [
    {
     "data": {
      "text/plain": [
       "Index(['customerID', 'gender', 'SeniorCitizen', 'Partner', 'Dependents',\n",
       "       'tenure', 'PhoneService', 'MultipleLines', 'InternetService',\n",
       "       'OnlineSecurity', 'OnlineBackup', 'DeviceProtection', 'TechSupport',\n",
       "       'StreamingTV', 'StreamingMovies', 'Contract', 'PaperlessBilling',\n",
       "       'PaymentMethod', 'MonthlyCharges', 'TotalCharges', 'Churn'],\n",
       "      dtype='object')"
      ]
     },
     "execution_count": 129,
     "metadata": {},
     "output_type": "execute_result"
    }
   ],
   "source": [
    "df.columns"
   ]
  },
  {
   "cell_type": "code",
   "execution_count": 130,
   "metadata": {
    "colab": {
     "base_uri": "https://localhost:8080/"
    },
    "execution": {
     "iopub.execute_input": "2021-11-09T03:52:43.079833Z",
     "iopub.status.busy": "2021-11-09T03:52:43.078995Z",
     "iopub.status.idle": "2021-11-09T03:52:43.090558Z",
     "shell.execute_reply": "2021-11-09T03:52:43.089462Z",
     "shell.execute_reply.started": "2021-11-09T03:52:43.079771Z"
    },
    "id": "2L6FaEBgWCgD",
    "outputId": "ac897f85-6cb1-4578-98d0-ab933eee133c"
   },
   "outputs": [
    {
     "data": {
      "text/plain": [
       "(7043, 21)"
      ]
     },
     "execution_count": 130,
     "metadata": {},
     "output_type": "execute_result"
    }
   ],
   "source": [
    "df.shape"
   ]
  },
  {
   "cell_type": "code",
   "execution_count": 131,
   "metadata": {
    "colab": {
     "base_uri": "https://localhost:8080/"
    },
    "execution": {
     "iopub.execute_input": "2021-11-09T03:52:43.105839Z",
     "iopub.status.busy": "2021-11-09T03:52:43.104115Z",
     "iopub.status.idle": "2021-11-09T03:52:43.143193Z",
     "shell.execute_reply": "2021-11-09T03:52:43.142163Z",
     "shell.execute_reply.started": "2021-11-09T03:52:43.105792Z"
    },
    "id": "OVWVz81KWCgD",
    "outputId": "1c24d04a-c6df-4f80-8d7a-f7578d154595"
   },
   "outputs": [
    {
     "name": "stdout",
     "output_type": "stream",
     "text": [
      "<class 'pandas.core.frame.DataFrame'>\n",
      "RangeIndex: 7043 entries, 0 to 7042\n",
      "Data columns (total 21 columns):\n",
      " #   Column            Non-Null Count  Dtype  \n",
      "---  ------            --------------  -----  \n",
      " 0   customerID        7043 non-null   object \n",
      " 1   gender            7043 non-null   object \n",
      " 2   SeniorCitizen     7043 non-null   int64  \n",
      " 3   Partner           7043 non-null   object \n",
      " 4   Dependents        7043 non-null   object \n",
      " 5   tenure            7043 non-null   int64  \n",
      " 6   PhoneService      7043 non-null   object \n",
      " 7   MultipleLines     7043 non-null   object \n",
      " 8   InternetService   7043 non-null   object \n",
      " 9   OnlineSecurity    7043 non-null   object \n",
      " 10  OnlineBackup      7043 non-null   object \n",
      " 11  DeviceProtection  7043 non-null   object \n",
      " 12  TechSupport       7043 non-null   object \n",
      " 13  StreamingTV       7043 non-null   object \n",
      " 14  StreamingMovies   7043 non-null   object \n",
      " 15  Contract          7043 non-null   object \n",
      " 16  PaperlessBilling  7043 non-null   object \n",
      " 17  PaymentMethod     7043 non-null   object \n",
      " 18  MonthlyCharges    7043 non-null   float64\n",
      " 19  TotalCharges      7043 non-null   object \n",
      " 20  Churn             7043 non-null   object \n",
      "dtypes: float64(1), int64(2), object(18)\n",
      "memory usage: 1.1+ MB\n"
     ]
    }
   ],
   "source": [
    "df.info()"
   ]
  },
  {
   "cell_type": "code",
   "execution_count": 132,
   "metadata": {
    "id": "29RIRHl9WxYU"
   },
   "outputs": [],
   "source": [
    "#Above shows the data types of each column. As the total charges is object, we need to convert it to float\n",
    "df[\"TotalCharges\"] = pd.to_numeric(df[\"TotalCharges\"], errors=\"coerce\")\n",
    "df['TotalCharges'] = df['TotalCharges'].astype(\"float\")"
   ]
  },
  {
   "cell_type": "code",
   "execution_count": 133,
   "metadata": {
    "colab": {
     "base_uri": "https://localhost:8080/",
     "height": 262
    },
    "execution": {
     "iopub.execute_input": "2021-11-09T03:52:43.145802Z",
     "iopub.status.busy": "2021-11-09T03:52:43.144833Z",
     "iopub.status.idle": "2021-11-09T03:52:43.174322Z",
     "shell.execute_reply": "2021-11-09T03:52:43.173290Z",
     "shell.execute_reply.started": "2021-11-09T03:52:43.145752Z"
    },
    "id": "oJnCVWiAWCgE",
    "outputId": "9177dcfb-bc40-4880-e07c-bf044bacd1e9"
   },
   "outputs": [
    {
     "data": {
      "text/html": [
       "<div>\n",
       "<style scoped>\n",
       "    .dataframe tbody tr th:only-of-type {\n",
       "        vertical-align: middle;\n",
       "    }\n",
       "\n",
       "    .dataframe tbody tr th {\n",
       "        vertical-align: top;\n",
       "    }\n",
       "\n",
       "    .dataframe thead th {\n",
       "        text-align: right;\n",
       "    }\n",
       "</style>\n",
       "<table border=\"1\" class=\"dataframe\">\n",
       "  <thead>\n",
       "    <tr style=\"text-align: right;\">\n",
       "      <th></th>\n",
       "      <th>tenure</th>\n",
       "      <th>MonthlyCharges</th>\n",
       "      <th>TotalCharges</th>\n",
       "    </tr>\n",
       "  </thead>\n",
       "  <tbody>\n",
       "    <tr>\n",
       "      <th>count</th>\n",
       "      <td>7043.000000</td>\n",
       "      <td>7043.000000</td>\n",
       "      <td>7032.000000</td>\n",
       "    </tr>\n",
       "    <tr>\n",
       "      <th>mean</th>\n",
       "      <td>32.371149</td>\n",
       "      <td>64.761692</td>\n",
       "      <td>2283.300441</td>\n",
       "    </tr>\n",
       "    <tr>\n",
       "      <th>std</th>\n",
       "      <td>24.559481</td>\n",
       "      <td>30.090047</td>\n",
       "      <td>2266.771362</td>\n",
       "    </tr>\n",
       "    <tr>\n",
       "      <th>min</th>\n",
       "      <td>0.000000</td>\n",
       "      <td>18.250000</td>\n",
       "      <td>18.800000</td>\n",
       "    </tr>\n",
       "    <tr>\n",
       "      <th>25%</th>\n",
       "      <td>9.000000</td>\n",
       "      <td>35.500000</td>\n",
       "      <td>401.450000</td>\n",
       "    </tr>\n",
       "    <tr>\n",
       "      <th>50%</th>\n",
       "      <td>29.000000</td>\n",
       "      <td>70.350000</td>\n",
       "      <td>1397.475000</td>\n",
       "    </tr>\n",
       "    <tr>\n",
       "      <th>75%</th>\n",
       "      <td>55.000000</td>\n",
       "      <td>89.850000</td>\n",
       "      <td>3794.737500</td>\n",
       "    </tr>\n",
       "    <tr>\n",
       "      <th>max</th>\n",
       "      <td>72.000000</td>\n",
       "      <td>118.750000</td>\n",
       "      <td>8684.800000</td>\n",
       "    </tr>\n",
       "  </tbody>\n",
       "</table>\n",
       "</div>"
      ],
      "text/plain": [
       "            tenure  MonthlyCharges  TotalCharges\n",
       "count  7043.000000     7043.000000   7032.000000\n",
       "mean     32.371149       64.761692   2283.300441\n",
       "std      24.559481       30.090047   2266.771362\n",
       "min       0.000000       18.250000     18.800000\n",
       "25%       9.000000       35.500000    401.450000\n",
       "50%      29.000000       70.350000   1397.475000\n",
       "75%      55.000000       89.850000   3794.737500\n",
       "max      72.000000      118.750000   8684.800000"
      ]
     },
     "execution_count": 133,
     "metadata": {},
     "output_type": "execute_result"
    }
   ],
   "source": [
    "df[['tenure','MonthlyCharges','TotalCharges']].describe()"
   ]
  },
  {
   "cell_type": "code",
   "execution_count": 134,
   "metadata": {
    "colab": {
     "base_uri": "https://localhost:8080/"
    },
    "execution": {
     "iopub.execute_input": "2021-11-09T03:52:43.176933Z",
     "iopub.status.busy": "2021-11-09T03:52:43.176295Z",
     "iopub.status.idle": "2021-11-09T03:52:43.202429Z",
     "shell.execute_reply": "2021-11-09T03:52:43.201454Z",
     "shell.execute_reply.started": "2021-11-09T03:52:43.176874Z"
    },
    "id": "rdb93Ya2WCgE",
    "outputId": "3081f6f2-fd40-452b-f463-d8a9913d4e8b"
   },
   "outputs": [
    {
     "data": {
      "text/plain": [
       "customerID           0\n",
       "gender               0\n",
       "SeniorCitizen        0\n",
       "Partner              0\n",
       "Dependents           0\n",
       "tenure               0\n",
       "PhoneService         0\n",
       "MultipleLines        0\n",
       "InternetService      0\n",
       "OnlineSecurity       0\n",
       "OnlineBackup         0\n",
       "DeviceProtection     0\n",
       "TechSupport          0\n",
       "StreamingTV          0\n",
       "StreamingMovies      0\n",
       "Contract             0\n",
       "PaperlessBilling     0\n",
       "PaymentMethod        0\n",
       "MonthlyCharges       0\n",
       "TotalCharges        11\n",
       "Churn                0\n",
       "dtype: int64"
      ]
     },
     "execution_count": 134,
     "metadata": {},
     "output_type": "execute_result"
    }
   ],
   "source": [
    "df.isnull().sum()"
   ]
  },
  {
   "cell_type": "code",
   "execution_count": 135,
   "metadata": {
    "colab": {
     "base_uri": "https://localhost:8080/"
    },
    "execution": {
     "iopub.execute_input": "2021-11-09T03:52:43.205070Z",
     "iopub.status.busy": "2021-11-09T03:52:43.203846Z",
     "iopub.status.idle": "2021-11-09T03:52:43.233001Z",
     "shell.execute_reply": "2021-11-09T03:52:43.231899Z",
     "shell.execute_reply.started": "2021-11-09T03:52:43.205022Z"
    },
    "id": "hKTbACsaWCgE",
    "outputId": "81f88c23-f717-403f-b052-369520e6422f"
   },
   "outputs": [
    {
     "data": {
      "text/plain": [
       "0"
      ]
     },
     "execution_count": 135,
     "metadata": {},
     "output_type": "execute_result"
    }
   ],
   "source": [
    "#check whether there are any duplicated rows\n",
    "df.duplicated().sum()"
   ]
  },
  {
   "cell_type": "markdown",
   "metadata": {},
   "source": [
    "#Data Imputation is: fill null with mean values"
   ]
  },
  {
   "cell_type": "code",
   "execution_count": 136,
   "metadata": {
    "id": "Tk1hOJDxX2mT"
   },
   "outputs": [],
   "source": [
    "#there are 11 null values in total charges column. Filling them with mean of the column.\n",
    "fill_Column=df['TotalCharges'].mean()\n",
    "df['TotalCharges'].fillna(value=fill_Column,inplace=True)"
   ]
  },
  {
   "cell_type": "code",
   "execution_count": 137,
   "metadata": {
    "colab": {
     "base_uri": "https://localhost:8080/"
    },
    "id": "vw70bcUUYKKT",
    "outputId": "0cbb3437-bf79-4bfa-810a-e8e480738ea7"
   },
   "outputs": [
    {
     "data": {
      "text/plain": [
       "customerID          0\n",
       "gender              0\n",
       "SeniorCitizen       0\n",
       "Partner             0\n",
       "Dependents          0\n",
       "tenure              0\n",
       "PhoneService        0\n",
       "MultipleLines       0\n",
       "InternetService     0\n",
       "OnlineSecurity      0\n",
       "OnlineBackup        0\n",
       "DeviceProtection    0\n",
       "TechSupport         0\n",
       "StreamingTV         0\n",
       "StreamingMovies     0\n",
       "Contract            0\n",
       "PaperlessBilling    0\n",
       "PaymentMethod       0\n",
       "MonthlyCharges      0\n",
       "TotalCharges        0\n",
       "Churn               0\n",
       "dtype: int64"
      ]
     },
     "execution_count": 137,
     "metadata": {},
     "output_type": "execute_result"
    }
   ],
   "source": [
    "#Now check for null values\n",
    "df.isnull().sum()\n",
    "#no null values"
   ]
  },
  {
   "cell_type": "code",
   "execution_count": 138,
   "metadata": {
    "colab": {
     "base_uri": "https://localhost:8080/",
     "height": 176
    },
    "execution": {
     "iopub.execute_input": "2021-11-09T03:52:43.269333Z",
     "iopub.status.busy": "2021-11-09T03:52:43.268524Z",
     "iopub.status.idle": "2021-11-09T03:52:43.287626Z",
     "shell.execute_reply": "2021-11-09T03:52:43.286653Z",
     "shell.execute_reply.started": "2021-11-09T03:52:43.269284Z"
    },
    "id": "dTvttk8WWCgF",
    "outputId": "45c1f8d4-369b-4d6e-c71e-6a81382ee69c"
   },
   "outputs": [
    {
     "data": {
      "text/html": [
       "<div>\n",
       "<style scoped>\n",
       "    .dataframe tbody tr th:only-of-type {\n",
       "        vertical-align: middle;\n",
       "    }\n",
       "\n",
       "    .dataframe tbody tr th {\n",
       "        vertical-align: top;\n",
       "    }\n",
       "\n",
       "    .dataframe thead th {\n",
       "        text-align: right;\n",
       "    }\n",
       "</style>\n",
       "<table border=\"1\" class=\"dataframe\">\n",
       "  <thead>\n",
       "    <tr style=\"text-align: right;\">\n",
       "      <th></th>\n",
       "      <th>SeniorCitizen</th>\n",
       "      <th>tenure</th>\n",
       "      <th>MonthlyCharges</th>\n",
       "      <th>TotalCharges</th>\n",
       "    </tr>\n",
       "  </thead>\n",
       "  <tbody>\n",
       "    <tr>\n",
       "      <th>SeniorCitizen</th>\n",
       "      <td>1.000000</td>\n",
       "      <td>0.016567</td>\n",
       "      <td>0.220173</td>\n",
       "      <td>0.102395</td>\n",
       "    </tr>\n",
       "    <tr>\n",
       "      <th>tenure</th>\n",
       "      <td>0.016567</td>\n",
       "      <td>1.000000</td>\n",
       "      <td>0.247900</td>\n",
       "      <td>0.824757</td>\n",
       "    </tr>\n",
       "    <tr>\n",
       "      <th>MonthlyCharges</th>\n",
       "      <td>0.220173</td>\n",
       "      <td>0.247900</td>\n",
       "      <td>1.000000</td>\n",
       "      <td>0.650468</td>\n",
       "    </tr>\n",
       "    <tr>\n",
       "      <th>TotalCharges</th>\n",
       "      <td>0.102395</td>\n",
       "      <td>0.824757</td>\n",
       "      <td>0.650468</td>\n",
       "      <td>1.000000</td>\n",
       "    </tr>\n",
       "  </tbody>\n",
       "</table>\n",
       "</div>"
      ],
      "text/plain": [
       "                SeniorCitizen    tenure  MonthlyCharges  TotalCharges\n",
       "SeniorCitizen        1.000000  0.016567        0.220173      0.102395\n",
       "tenure               0.016567  1.000000        0.247900      0.824757\n",
       "MonthlyCharges       0.220173  0.247900        1.000000      0.650468\n",
       "TotalCharges         0.102395  0.824757        0.650468      1.000000"
      ]
     },
     "execution_count": 138,
     "metadata": {},
     "output_type": "execute_result"
    }
   ],
   "source": [
    "df.corr()"
   ]
  },
  {
   "cell_type": "code",
   "execution_count": 139,
   "metadata": {
    "execution": {
     "iopub.execute_input": "2021-11-09T03:52:56.920080Z",
     "iopub.status.busy": "2021-11-09T03:52:56.917634Z",
     "iopub.status.idle": "2021-11-09T03:52:57.883523Z",
     "shell.execute_reply": "2021-11-09T03:52:57.882439Z",
     "shell.execute_reply.started": "2021-11-09T03:52:56.920039Z"
    },
    "id": "t7DHwaojWCgU"
   },
   "outputs": [],
   "source": [
    "#replace No and yes with 0 and 1\n",
    "df['Churn'] = df['Churn'].replace(\"No\", 0).replace(\"Yes\", 1)"
   ]
  },
  {
   "cell_type": "code",
   "execution_count": 140,
   "metadata": {
    "execution": {
     "iopub.execute_input": "2021-11-09T03:53:14.902614Z",
     "iopub.status.busy": "2021-11-09T03:53:14.902166Z",
     "iopub.status.idle": "2021-11-09T03:53:14.911726Z",
     "shell.execute_reply": "2021-11-09T03:53:14.910394Z",
     "shell.execute_reply.started": "2021-11-09T03:53:14.902565Z"
    },
    "id": "Wp9k4iTtWCga"
   },
   "outputs": [],
   "source": [
    "#dropping customerID from dataset\n",
    "customer_id_df=df['customerID']\n",
    "df.drop(['customerID'],axis = 1,inplace=True)"
   ]
  },
  {
   "cell_type": "code",
   "execution_count": 141,
   "metadata": {
    "colab": {
     "base_uri": "https://localhost:8080/",
     "height": 1069
    },
    "execution": {
     "iopub.execute_input": "2021-11-09T03:53:14.914366Z",
     "iopub.status.busy": "2021-11-09T03:53:14.914012Z",
     "iopub.status.idle": "2021-11-09T03:53:14.952158Z",
     "shell.execute_reply": "2021-11-09T03:53:14.951160Z",
     "shell.execute_reply.started": "2021-11-09T03:53:14.914319Z"
    },
    "id": "ceYUEExkWCga",
    "outputId": "385dd909-0424-4e7e-cfc7-6dc59fc90b85"
   },
   "outputs": [
    {
     "data": {
      "text/html": [
       "<div>\n",
       "<style scoped>\n",
       "    .dataframe tbody tr th:only-of-type {\n",
       "        vertical-align: middle;\n",
       "    }\n",
       "\n",
       "    .dataframe tbody tr th {\n",
       "        vertical-align: top;\n",
       "    }\n",
       "\n",
       "    .dataframe thead th {\n",
       "        text-align: right;\n",
       "    }\n",
       "</style>\n",
       "<table border=\"1\" class=\"dataframe\">\n",
       "  <thead>\n",
       "    <tr style=\"text-align: right;\">\n",
       "      <th></th>\n",
       "      <th>gender</th>\n",
       "      <th>SeniorCitizen</th>\n",
       "      <th>Partner</th>\n",
       "      <th>Dependents</th>\n",
       "      <th>tenure</th>\n",
       "      <th>PhoneService</th>\n",
       "      <th>MultipleLines</th>\n",
       "      <th>InternetService</th>\n",
       "      <th>OnlineSecurity</th>\n",
       "      <th>OnlineBackup</th>\n",
       "      <th>DeviceProtection</th>\n",
       "      <th>TechSupport</th>\n",
       "      <th>StreamingTV</th>\n",
       "      <th>StreamingMovies</th>\n",
       "      <th>Contract</th>\n",
       "      <th>PaperlessBilling</th>\n",
       "      <th>PaymentMethod</th>\n",
       "      <th>MonthlyCharges</th>\n",
       "      <th>TotalCharges</th>\n",
       "      <th>Churn</th>\n",
       "    </tr>\n",
       "  </thead>\n",
       "  <tbody>\n",
       "    <tr>\n",
       "      <th>0</th>\n",
       "      <td>Female</td>\n",
       "      <td>0</td>\n",
       "      <td>Yes</td>\n",
       "      <td>No</td>\n",
       "      <td>1</td>\n",
       "      <td>No</td>\n",
       "      <td>No phone service</td>\n",
       "      <td>DSL</td>\n",
       "      <td>No</td>\n",
       "      <td>Yes</td>\n",
       "      <td>No</td>\n",
       "      <td>No</td>\n",
       "      <td>No</td>\n",
       "      <td>No</td>\n",
       "      <td>Month-to-month</td>\n",
       "      <td>Yes</td>\n",
       "      <td>Electronic check</td>\n",
       "      <td>29.85</td>\n",
       "      <td>29.85</td>\n",
       "      <td>0</td>\n",
       "    </tr>\n",
       "    <tr>\n",
       "      <th>1</th>\n",
       "      <td>Male</td>\n",
       "      <td>0</td>\n",
       "      <td>No</td>\n",
       "      <td>No</td>\n",
       "      <td>34</td>\n",
       "      <td>Yes</td>\n",
       "      <td>No</td>\n",
       "      <td>DSL</td>\n",
       "      <td>Yes</td>\n",
       "      <td>No</td>\n",
       "      <td>Yes</td>\n",
       "      <td>No</td>\n",
       "      <td>No</td>\n",
       "      <td>No</td>\n",
       "      <td>One year</td>\n",
       "      <td>No</td>\n",
       "      <td>Mailed check</td>\n",
       "      <td>56.95</td>\n",
       "      <td>1889.50</td>\n",
       "      <td>0</td>\n",
       "    </tr>\n",
       "    <tr>\n",
       "      <th>2</th>\n",
       "      <td>Male</td>\n",
       "      <td>0</td>\n",
       "      <td>No</td>\n",
       "      <td>No</td>\n",
       "      <td>2</td>\n",
       "      <td>Yes</td>\n",
       "      <td>No</td>\n",
       "      <td>DSL</td>\n",
       "      <td>Yes</td>\n",
       "      <td>Yes</td>\n",
       "      <td>No</td>\n",
       "      <td>No</td>\n",
       "      <td>No</td>\n",
       "      <td>No</td>\n",
       "      <td>Month-to-month</td>\n",
       "      <td>Yes</td>\n",
       "      <td>Mailed check</td>\n",
       "      <td>53.85</td>\n",
       "      <td>108.15</td>\n",
       "      <td>1</td>\n",
       "    </tr>\n",
       "    <tr>\n",
       "      <th>3</th>\n",
       "      <td>Male</td>\n",
       "      <td>0</td>\n",
       "      <td>No</td>\n",
       "      <td>No</td>\n",
       "      <td>45</td>\n",
       "      <td>No</td>\n",
       "      <td>No phone service</td>\n",
       "      <td>DSL</td>\n",
       "      <td>Yes</td>\n",
       "      <td>No</td>\n",
       "      <td>Yes</td>\n",
       "      <td>Yes</td>\n",
       "      <td>No</td>\n",
       "      <td>No</td>\n",
       "      <td>One year</td>\n",
       "      <td>No</td>\n",
       "      <td>Bank transfer (automatic)</td>\n",
       "      <td>42.30</td>\n",
       "      <td>1840.75</td>\n",
       "      <td>0</td>\n",
       "    </tr>\n",
       "    <tr>\n",
       "      <th>4</th>\n",
       "      <td>Female</td>\n",
       "      <td>0</td>\n",
       "      <td>No</td>\n",
       "      <td>No</td>\n",
       "      <td>2</td>\n",
       "      <td>Yes</td>\n",
       "      <td>No</td>\n",
       "      <td>Fiber optic</td>\n",
       "      <td>No</td>\n",
       "      <td>No</td>\n",
       "      <td>No</td>\n",
       "      <td>No</td>\n",
       "      <td>No</td>\n",
       "      <td>No</td>\n",
       "      <td>Month-to-month</td>\n",
       "      <td>Yes</td>\n",
       "      <td>Electronic check</td>\n",
       "      <td>70.70</td>\n",
       "      <td>151.65</td>\n",
       "      <td>1</td>\n",
       "    </tr>\n",
       "    <tr>\n",
       "      <th>...</th>\n",
       "      <td>...</td>\n",
       "      <td>...</td>\n",
       "      <td>...</td>\n",
       "      <td>...</td>\n",
       "      <td>...</td>\n",
       "      <td>...</td>\n",
       "      <td>...</td>\n",
       "      <td>...</td>\n",
       "      <td>...</td>\n",
       "      <td>...</td>\n",
       "      <td>...</td>\n",
       "      <td>...</td>\n",
       "      <td>...</td>\n",
       "      <td>...</td>\n",
       "      <td>...</td>\n",
       "      <td>...</td>\n",
       "      <td>...</td>\n",
       "      <td>...</td>\n",
       "      <td>...</td>\n",
       "      <td>...</td>\n",
       "    </tr>\n",
       "    <tr>\n",
       "      <th>7038</th>\n",
       "      <td>Male</td>\n",
       "      <td>0</td>\n",
       "      <td>Yes</td>\n",
       "      <td>Yes</td>\n",
       "      <td>24</td>\n",
       "      <td>Yes</td>\n",
       "      <td>Yes</td>\n",
       "      <td>DSL</td>\n",
       "      <td>Yes</td>\n",
       "      <td>No</td>\n",
       "      <td>Yes</td>\n",
       "      <td>Yes</td>\n",
       "      <td>Yes</td>\n",
       "      <td>Yes</td>\n",
       "      <td>One year</td>\n",
       "      <td>Yes</td>\n",
       "      <td>Mailed check</td>\n",
       "      <td>84.80</td>\n",
       "      <td>1990.50</td>\n",
       "      <td>0</td>\n",
       "    </tr>\n",
       "    <tr>\n",
       "      <th>7039</th>\n",
       "      <td>Female</td>\n",
       "      <td>0</td>\n",
       "      <td>Yes</td>\n",
       "      <td>Yes</td>\n",
       "      <td>72</td>\n",
       "      <td>Yes</td>\n",
       "      <td>Yes</td>\n",
       "      <td>Fiber optic</td>\n",
       "      <td>No</td>\n",
       "      <td>Yes</td>\n",
       "      <td>Yes</td>\n",
       "      <td>No</td>\n",
       "      <td>Yes</td>\n",
       "      <td>Yes</td>\n",
       "      <td>One year</td>\n",
       "      <td>Yes</td>\n",
       "      <td>Credit card (automatic)</td>\n",
       "      <td>103.20</td>\n",
       "      <td>7362.90</td>\n",
       "      <td>0</td>\n",
       "    </tr>\n",
       "    <tr>\n",
       "      <th>7040</th>\n",
       "      <td>Female</td>\n",
       "      <td>0</td>\n",
       "      <td>Yes</td>\n",
       "      <td>Yes</td>\n",
       "      <td>11</td>\n",
       "      <td>No</td>\n",
       "      <td>No phone service</td>\n",
       "      <td>DSL</td>\n",
       "      <td>Yes</td>\n",
       "      <td>No</td>\n",
       "      <td>No</td>\n",
       "      <td>No</td>\n",
       "      <td>No</td>\n",
       "      <td>No</td>\n",
       "      <td>Month-to-month</td>\n",
       "      <td>Yes</td>\n",
       "      <td>Electronic check</td>\n",
       "      <td>29.60</td>\n",
       "      <td>346.45</td>\n",
       "      <td>0</td>\n",
       "    </tr>\n",
       "    <tr>\n",
       "      <th>7041</th>\n",
       "      <td>Male</td>\n",
       "      <td>1</td>\n",
       "      <td>Yes</td>\n",
       "      <td>No</td>\n",
       "      <td>4</td>\n",
       "      <td>Yes</td>\n",
       "      <td>Yes</td>\n",
       "      <td>Fiber optic</td>\n",
       "      <td>No</td>\n",
       "      <td>No</td>\n",
       "      <td>No</td>\n",
       "      <td>No</td>\n",
       "      <td>No</td>\n",
       "      <td>No</td>\n",
       "      <td>Month-to-month</td>\n",
       "      <td>Yes</td>\n",
       "      <td>Mailed check</td>\n",
       "      <td>74.40</td>\n",
       "      <td>306.60</td>\n",
       "      <td>1</td>\n",
       "    </tr>\n",
       "    <tr>\n",
       "      <th>7042</th>\n",
       "      <td>Male</td>\n",
       "      <td>0</td>\n",
       "      <td>No</td>\n",
       "      <td>No</td>\n",
       "      <td>66</td>\n",
       "      <td>Yes</td>\n",
       "      <td>No</td>\n",
       "      <td>Fiber optic</td>\n",
       "      <td>Yes</td>\n",
       "      <td>No</td>\n",
       "      <td>Yes</td>\n",
       "      <td>Yes</td>\n",
       "      <td>Yes</td>\n",
       "      <td>Yes</td>\n",
       "      <td>Two year</td>\n",
       "      <td>Yes</td>\n",
       "      <td>Bank transfer (automatic)</td>\n",
       "      <td>105.65</td>\n",
       "      <td>6844.50</td>\n",
       "      <td>0</td>\n",
       "    </tr>\n",
       "  </tbody>\n",
       "</table>\n",
       "<p>7043 rows × 20 columns</p>\n",
       "</div>"
      ],
      "text/plain": [
       "      gender  SeniorCitizen Partner Dependents  tenure PhoneService  \\\n",
       "0     Female              0     Yes         No       1           No   \n",
       "1       Male              0      No         No      34          Yes   \n",
       "2       Male              0      No         No       2          Yes   \n",
       "3       Male              0      No         No      45           No   \n",
       "4     Female              0      No         No       2          Yes   \n",
       "...      ...            ...     ...        ...     ...          ...   \n",
       "7038    Male              0     Yes        Yes      24          Yes   \n",
       "7039  Female              0     Yes        Yes      72          Yes   \n",
       "7040  Female              0     Yes        Yes      11           No   \n",
       "7041    Male              1     Yes         No       4          Yes   \n",
       "7042    Male              0      No         No      66          Yes   \n",
       "\n",
       "         MultipleLines InternetService OnlineSecurity OnlineBackup  \\\n",
       "0     No phone service             DSL             No          Yes   \n",
       "1                   No             DSL            Yes           No   \n",
       "2                   No             DSL            Yes          Yes   \n",
       "3     No phone service             DSL            Yes           No   \n",
       "4                   No     Fiber optic             No           No   \n",
       "...                ...             ...            ...          ...   \n",
       "7038               Yes             DSL            Yes           No   \n",
       "7039               Yes     Fiber optic             No          Yes   \n",
       "7040  No phone service             DSL            Yes           No   \n",
       "7041               Yes     Fiber optic             No           No   \n",
       "7042                No     Fiber optic            Yes           No   \n",
       "\n",
       "     DeviceProtection TechSupport StreamingTV StreamingMovies        Contract  \\\n",
       "0                  No          No          No              No  Month-to-month   \n",
       "1                 Yes          No          No              No        One year   \n",
       "2                  No          No          No              No  Month-to-month   \n",
       "3                 Yes         Yes          No              No        One year   \n",
       "4                  No          No          No              No  Month-to-month   \n",
       "...               ...         ...         ...             ...             ...   \n",
       "7038              Yes         Yes         Yes             Yes        One year   \n",
       "7039              Yes          No         Yes             Yes        One year   \n",
       "7040               No          No          No              No  Month-to-month   \n",
       "7041               No          No          No              No  Month-to-month   \n",
       "7042              Yes         Yes         Yes             Yes        Two year   \n",
       "\n",
       "     PaperlessBilling              PaymentMethod  MonthlyCharges  \\\n",
       "0                 Yes           Electronic check           29.85   \n",
       "1                  No               Mailed check           56.95   \n",
       "2                 Yes               Mailed check           53.85   \n",
       "3                  No  Bank transfer (automatic)           42.30   \n",
       "4                 Yes           Electronic check           70.70   \n",
       "...               ...                        ...             ...   \n",
       "7038              Yes               Mailed check           84.80   \n",
       "7039              Yes    Credit card (automatic)          103.20   \n",
       "7040              Yes           Electronic check           29.60   \n",
       "7041              Yes               Mailed check           74.40   \n",
       "7042              Yes  Bank transfer (automatic)          105.65   \n",
       "\n",
       "      TotalCharges  Churn  \n",
       "0            29.85      0  \n",
       "1          1889.50      0  \n",
       "2           108.15      1  \n",
       "3          1840.75      0  \n",
       "4           151.65      1  \n",
       "...            ...    ...  \n",
       "7038       1990.50      0  \n",
       "7039       7362.90      0  \n",
       "7040        346.45      0  \n",
       "7041        306.60      1  \n",
       "7042       6844.50      0  \n",
       "\n",
       "[7043 rows x 20 columns]"
      ]
     },
     "execution_count": 141,
     "metadata": {},
     "output_type": "execute_result"
    }
   ],
   "source": [
    "df"
   ]
  },
  {
   "cell_type": "code",
   "execution_count": 142,
   "metadata": {
    "colab": {
     "base_uri": "https://localhost:8080/",
     "height": 540
    },
    "execution": {
     "iopub.execute_input": "2021-11-09T03:53:14.954613Z",
     "iopub.status.busy": "2021-11-09T03:53:14.953998Z",
     "iopub.status.idle": "2021-11-09T03:53:15.014837Z",
     "shell.execute_reply": "2021-11-09T03:53:15.013920Z",
     "shell.execute_reply.started": "2021-11-09T03:53:14.954564Z"
    },
    "id": "efgWXbRvWCga",
    "outputId": "445c2d9d-6708-4795-b3ad-845928f01b84"
   },
   "outputs": [
    {
     "name": "stdout",
     "output_type": "stream",
     "text": [
      "      gender  SeniorCitizen  Partner  Dependents  tenure  PhoneService  \\\n",
      "0          0              0        1           0       1             0   \n",
      "1          1              0        0           0      34             1   \n",
      "2          1              0        0           0       2             1   \n",
      "3          1              0        0           0      45             0   \n",
      "4          0              0        0           0       2             1   \n",
      "...      ...            ...      ...         ...     ...           ...   \n",
      "7038       1              0        1           1      24             1   \n",
      "7039       0              0        1           1      72             1   \n",
      "7040       0              0        1           1      11             0   \n",
      "7041       1              1        1           0       4             1   \n",
      "7042       1              0        0           0      66             1   \n",
      "\n",
      "      MultipleLines  InternetService  OnlineSecurity  OnlineBackup  \\\n",
      "0                 1                0               0             2   \n",
      "1                 0                0               2             0   \n",
      "2                 0                0               2             2   \n",
      "3                 1                0               2             0   \n",
      "4                 0                1               0             0   \n",
      "...             ...              ...             ...           ...   \n",
      "7038              2                0               2             0   \n",
      "7039              2                1               0             2   \n",
      "7040              1                0               2             0   \n",
      "7041              2                1               0             0   \n",
      "7042              0                1               2             0   \n",
      "\n",
      "      DeviceProtection  TechSupport  StreamingTV  StreamingMovies  Contract  \\\n",
      "0                    0            0            0                0         0   \n",
      "1                    2            0            0                0         1   \n",
      "2                    0            0            0                0         0   \n",
      "3                    2            2            0                0         1   \n",
      "4                    0            0            0                0         0   \n",
      "...                ...          ...          ...              ...       ...   \n",
      "7038                 2            2            2                2         1   \n",
      "7039                 2            0            2                2         1   \n",
      "7040                 0            0            0                0         0   \n",
      "7041                 0            0            0                0         0   \n",
      "7042                 2            2            2                2         2   \n",
      "\n",
      "      PaperlessBilling  PaymentMethod  MonthlyCharges  TotalCharges  Churn  \n",
      "0                    1              2             142            74      0  \n",
      "1                    0              3             498          3624      0  \n",
      "2                    1              3             436           536      1  \n",
      "3                    0              0             266          3570      0  \n",
      "4                    1              2             729           674      1  \n",
      "...                ...            ...             ...           ...    ...  \n",
      "7038                 1              3             991          3700      0  \n",
      "7039                 1              1            1340          6305      0  \n",
      "7040                 1              2             137          1265      0  \n",
      "7041                 1              3             795          1157      1  \n",
      "7042                 1              0            1388          6151      0  \n",
      "\n",
      "[7043 rows x 20 columns]\n"
     ]
    }
   ],
   "source": [
    "#Transform data – all entries should be numeric. \n",
    "from sklearn.preprocessing import LabelEncoder\n",
    "\n",
    "# creating instance of labelencoder\n",
    "Label_Encoder_Variable = LabelEncoder()\n",
    "df = df.apply(Label_Encoder_Variable.fit_transform)\n",
    "print(df)"
   ]
  },
  {
   "cell_type": "code",
   "execution_count": 143,
   "metadata": {
    "colab": {
     "base_uri": "https://localhost:8080/",
     "height": 260
    },
    "id": "MRkLLBPrbD-Z",
    "outputId": "0e53ae82-630b-4765-f6bf-ada246eb1965"
   },
   "outputs": [
    {
     "data": {
      "text/plain": [
       "Index(['gender', 'SeniorCitizen', 'Partner', 'Dependents', 'tenure',\n",
       "       'PhoneService', 'MultipleLines', 'InternetService', 'OnlineSecurity',\n",
       "       'OnlineBackup', 'DeviceProtection', 'TechSupport', 'StreamingTV',\n",
       "       'StreamingMovies', 'Contract', 'PaperlessBilling', 'PaymentMethod',\n",
       "       'MonthlyCharges', 'TotalCharges', 'Churn'],\n",
       "      dtype='object')"
      ]
     },
     "metadata": {},
     "output_type": "display_data"
    }
   ],
   "source": [
    "display(df.columns)"
   ]
  },
  {
   "cell_type": "code",
   "execution_count": 144,
   "metadata": {
    "colab": {
     "base_uri": "https://localhost:8080/",
     "height": 572
    },
    "id": "IZsVW5U9bJzo",
    "outputId": "615a974f-a394-4899-c887-eebfed6774f8"
   },
   "outputs": [
    {
     "data": {
      "text/plain": [
       "gender              int32\n",
       "SeniorCitizen       int64\n",
       "Partner             int32\n",
       "Dependents          int32\n",
       "tenure              int64\n",
       "PhoneService        int32\n",
       "MultipleLines       int32\n",
       "InternetService     int32\n",
       "OnlineSecurity      int32\n",
       "OnlineBackup        int32\n",
       "DeviceProtection    int32\n",
       "TechSupport         int32\n",
       "StreamingTV         int32\n",
       "StreamingMovies     int32\n",
       "Contract            int32\n",
       "PaperlessBilling    int32\n",
       "PaymentMethod       int32\n",
       "MonthlyCharges      int64\n",
       "TotalCharges        int64\n",
       "Churn               int64\n",
       "dtype: object"
      ]
     },
     "metadata": {},
     "output_type": "display_data"
    }
   ],
   "source": [
    "display(df.dtypes)"
   ]
  },
  {
   "cell_type": "code",
   "execution_count": 145,
   "metadata": {
    "colab": {
     "base_uri": "https://localhost:8080/",
     "height": 522
    },
    "execution": {
     "iopub.execute_input": "2021-11-09T03:53:15.031710Z",
     "iopub.status.busy": "2021-11-09T03:53:15.030868Z",
     "iopub.status.idle": "2021-11-09T03:53:15.064625Z",
     "shell.execute_reply": "2021-11-09T03:53:15.063618Z",
     "shell.execute_reply.started": "2021-11-09T03:53:15.031661Z"
    },
    "id": "LSFUKRYTWCgb",
    "outputId": "228b9b98-970d-496f-e182-01633ef5d95b"
   },
   "outputs": [
    {
     "data": {
      "text/html": [
       "<div>\n",
       "<style scoped>\n",
       "    .dataframe tbody tr th:only-of-type {\n",
       "        vertical-align: middle;\n",
       "    }\n",
       "\n",
       "    .dataframe tbody tr th {\n",
       "        vertical-align: top;\n",
       "    }\n",
       "\n",
       "    .dataframe thead th {\n",
       "        text-align: right;\n",
       "    }\n",
       "</style>\n",
       "<table border=\"1\" class=\"dataframe\">\n",
       "  <thead>\n",
       "    <tr style=\"text-align: right;\">\n",
       "      <th></th>\n",
       "      <th>SeniorCitizen</th>\n",
       "      <th>tenure</th>\n",
       "      <th>MonthlyCharges</th>\n",
       "      <th>TotalCharges</th>\n",
       "      <th>gender</th>\n",
       "      <th>Partner</th>\n",
       "      <th>Dependents</th>\n",
       "      <th>PhoneService</th>\n",
       "      <th>MultipleLines</th>\n",
       "      <th>InternetService</th>\n",
       "      <th>OnlineSecurity</th>\n",
       "      <th>OnlineBackup</th>\n",
       "      <th>OnlineBackup</th>\n",
       "      <th>DeviceProtection</th>\n",
       "      <th>TechSupport</th>\n",
       "      <th>StreamingTV</th>\n",
       "      <th>Contract</th>\n",
       "      <th>PaperlessBilling</th>\n",
       "      <th>PaymentMethod</th>\n",
       "      <th>Churn</th>\n",
       "    </tr>\n",
       "  </thead>\n",
       "  <tbody>\n",
       "    <tr>\n",
       "      <th>0</th>\n",
       "      <td>0</td>\n",
       "      <td>1</td>\n",
       "      <td>142</td>\n",
       "      <td>74</td>\n",
       "      <td>0</td>\n",
       "      <td>1</td>\n",
       "      <td>0</td>\n",
       "      <td>0</td>\n",
       "      <td>1</td>\n",
       "      <td>0</td>\n",
       "      <td>0</td>\n",
       "      <td>2</td>\n",
       "      <td>2</td>\n",
       "      <td>0</td>\n",
       "      <td>0</td>\n",
       "      <td>0</td>\n",
       "      <td>0</td>\n",
       "      <td>1</td>\n",
       "      <td>2</td>\n",
       "      <td>0</td>\n",
       "    </tr>\n",
       "    <tr>\n",
       "      <th>1</th>\n",
       "      <td>0</td>\n",
       "      <td>34</td>\n",
       "      <td>498</td>\n",
       "      <td>3624</td>\n",
       "      <td>1</td>\n",
       "      <td>0</td>\n",
       "      <td>0</td>\n",
       "      <td>1</td>\n",
       "      <td>0</td>\n",
       "      <td>0</td>\n",
       "      <td>2</td>\n",
       "      <td>0</td>\n",
       "      <td>0</td>\n",
       "      <td>2</td>\n",
       "      <td>0</td>\n",
       "      <td>0</td>\n",
       "      <td>1</td>\n",
       "      <td>0</td>\n",
       "      <td>3</td>\n",
       "      <td>0</td>\n",
       "    </tr>\n",
       "    <tr>\n",
       "      <th>2</th>\n",
       "      <td>0</td>\n",
       "      <td>2</td>\n",
       "      <td>436</td>\n",
       "      <td>536</td>\n",
       "      <td>1</td>\n",
       "      <td>0</td>\n",
       "      <td>0</td>\n",
       "      <td>1</td>\n",
       "      <td>0</td>\n",
       "      <td>0</td>\n",
       "      <td>2</td>\n",
       "      <td>2</td>\n",
       "      <td>2</td>\n",
       "      <td>0</td>\n",
       "      <td>0</td>\n",
       "      <td>0</td>\n",
       "      <td>0</td>\n",
       "      <td>1</td>\n",
       "      <td>3</td>\n",
       "      <td>1</td>\n",
       "    </tr>\n",
       "    <tr>\n",
       "      <th>3</th>\n",
       "      <td>0</td>\n",
       "      <td>45</td>\n",
       "      <td>266</td>\n",
       "      <td>3570</td>\n",
       "      <td>1</td>\n",
       "      <td>0</td>\n",
       "      <td>0</td>\n",
       "      <td>0</td>\n",
       "      <td>1</td>\n",
       "      <td>0</td>\n",
       "      <td>2</td>\n",
       "      <td>0</td>\n",
       "      <td>0</td>\n",
       "      <td>2</td>\n",
       "      <td>2</td>\n",
       "      <td>0</td>\n",
       "      <td>1</td>\n",
       "      <td>0</td>\n",
       "      <td>0</td>\n",
       "      <td>0</td>\n",
       "    </tr>\n",
       "    <tr>\n",
       "      <th>4</th>\n",
       "      <td>0</td>\n",
       "      <td>2</td>\n",
       "      <td>729</td>\n",
       "      <td>674</td>\n",
       "      <td>0</td>\n",
       "      <td>0</td>\n",
       "      <td>0</td>\n",
       "      <td>1</td>\n",
       "      <td>0</td>\n",
       "      <td>1</td>\n",
       "      <td>0</td>\n",
       "      <td>0</td>\n",
       "      <td>0</td>\n",
       "      <td>0</td>\n",
       "      <td>0</td>\n",
       "      <td>0</td>\n",
       "      <td>0</td>\n",
       "      <td>1</td>\n",
       "      <td>2</td>\n",
       "      <td>1</td>\n",
       "    </tr>\n",
       "    <tr>\n",
       "      <th>...</th>\n",
       "      <td>...</td>\n",
       "      <td>...</td>\n",
       "      <td>...</td>\n",
       "      <td>...</td>\n",
       "      <td>...</td>\n",
       "      <td>...</td>\n",
       "      <td>...</td>\n",
       "      <td>...</td>\n",
       "      <td>...</td>\n",
       "      <td>...</td>\n",
       "      <td>...</td>\n",
       "      <td>...</td>\n",
       "      <td>...</td>\n",
       "      <td>...</td>\n",
       "      <td>...</td>\n",
       "      <td>...</td>\n",
       "      <td>...</td>\n",
       "      <td>...</td>\n",
       "      <td>...</td>\n",
       "      <td>...</td>\n",
       "    </tr>\n",
       "    <tr>\n",
       "      <th>7038</th>\n",
       "      <td>0</td>\n",
       "      <td>24</td>\n",
       "      <td>991</td>\n",
       "      <td>3700</td>\n",
       "      <td>1</td>\n",
       "      <td>1</td>\n",
       "      <td>1</td>\n",
       "      <td>1</td>\n",
       "      <td>2</td>\n",
       "      <td>0</td>\n",
       "      <td>2</td>\n",
       "      <td>0</td>\n",
       "      <td>0</td>\n",
       "      <td>2</td>\n",
       "      <td>2</td>\n",
       "      <td>2</td>\n",
       "      <td>1</td>\n",
       "      <td>1</td>\n",
       "      <td>3</td>\n",
       "      <td>0</td>\n",
       "    </tr>\n",
       "    <tr>\n",
       "      <th>7039</th>\n",
       "      <td>0</td>\n",
       "      <td>72</td>\n",
       "      <td>1340</td>\n",
       "      <td>6305</td>\n",
       "      <td>0</td>\n",
       "      <td>1</td>\n",
       "      <td>1</td>\n",
       "      <td>1</td>\n",
       "      <td>2</td>\n",
       "      <td>1</td>\n",
       "      <td>0</td>\n",
       "      <td>2</td>\n",
       "      <td>2</td>\n",
       "      <td>2</td>\n",
       "      <td>0</td>\n",
       "      <td>2</td>\n",
       "      <td>1</td>\n",
       "      <td>1</td>\n",
       "      <td>1</td>\n",
       "      <td>0</td>\n",
       "    </tr>\n",
       "    <tr>\n",
       "      <th>7040</th>\n",
       "      <td>0</td>\n",
       "      <td>11</td>\n",
       "      <td>137</td>\n",
       "      <td>1265</td>\n",
       "      <td>0</td>\n",
       "      <td>1</td>\n",
       "      <td>1</td>\n",
       "      <td>0</td>\n",
       "      <td>1</td>\n",
       "      <td>0</td>\n",
       "      <td>2</td>\n",
       "      <td>0</td>\n",
       "      <td>0</td>\n",
       "      <td>0</td>\n",
       "      <td>0</td>\n",
       "      <td>0</td>\n",
       "      <td>0</td>\n",
       "      <td>1</td>\n",
       "      <td>2</td>\n",
       "      <td>0</td>\n",
       "    </tr>\n",
       "    <tr>\n",
       "      <th>7041</th>\n",
       "      <td>1</td>\n",
       "      <td>4</td>\n",
       "      <td>795</td>\n",
       "      <td>1157</td>\n",
       "      <td>1</td>\n",
       "      <td>1</td>\n",
       "      <td>0</td>\n",
       "      <td>1</td>\n",
       "      <td>2</td>\n",
       "      <td>1</td>\n",
       "      <td>0</td>\n",
       "      <td>0</td>\n",
       "      <td>0</td>\n",
       "      <td>0</td>\n",
       "      <td>0</td>\n",
       "      <td>0</td>\n",
       "      <td>0</td>\n",
       "      <td>1</td>\n",
       "      <td>3</td>\n",
       "      <td>1</td>\n",
       "    </tr>\n",
       "    <tr>\n",
       "      <th>7042</th>\n",
       "      <td>0</td>\n",
       "      <td>66</td>\n",
       "      <td>1388</td>\n",
       "      <td>6151</td>\n",
       "      <td>1</td>\n",
       "      <td>0</td>\n",
       "      <td>0</td>\n",
       "      <td>1</td>\n",
       "      <td>0</td>\n",
       "      <td>1</td>\n",
       "      <td>2</td>\n",
       "      <td>0</td>\n",
       "      <td>0</td>\n",
       "      <td>2</td>\n",
       "      <td>2</td>\n",
       "      <td>2</td>\n",
       "      <td>2</td>\n",
       "      <td>1</td>\n",
       "      <td>0</td>\n",
       "      <td>0</td>\n",
       "    </tr>\n",
       "  </tbody>\n",
       "</table>\n",
       "<p>7043 rows × 20 columns</p>\n",
       "</div>"
      ],
      "text/plain": [
       "      SeniorCitizen  tenure  MonthlyCharges  TotalCharges  gender  Partner  \\\n",
       "0                 0       1             142            74       0        1   \n",
       "1                 0      34             498          3624       1        0   \n",
       "2                 0       2             436           536       1        0   \n",
       "3                 0      45             266          3570       1        0   \n",
       "4                 0       2             729           674       0        0   \n",
       "...             ...     ...             ...           ...     ...      ...   \n",
       "7038              0      24             991          3700       1        1   \n",
       "7039              0      72            1340          6305       0        1   \n",
       "7040              0      11             137          1265       0        1   \n",
       "7041              1       4             795          1157       1        1   \n",
       "7042              0      66            1388          6151       1        0   \n",
       "\n",
       "      Dependents  PhoneService  MultipleLines  InternetService  \\\n",
       "0              0             0              1                0   \n",
       "1              0             1              0                0   \n",
       "2              0             1              0                0   \n",
       "3              0             0              1                0   \n",
       "4              0             1              0                1   \n",
       "...          ...           ...            ...              ...   \n",
       "7038           1             1              2                0   \n",
       "7039           1             1              2                1   \n",
       "7040           1             0              1                0   \n",
       "7041           0             1              2                1   \n",
       "7042           0             1              0                1   \n",
       "\n",
       "      OnlineSecurity  OnlineBackup  OnlineBackup  DeviceProtection  \\\n",
       "0                  0             2             2                 0   \n",
       "1                  2             0             0                 2   \n",
       "2                  2             2             2                 0   \n",
       "3                  2             0             0                 2   \n",
       "4                  0             0             0                 0   \n",
       "...              ...           ...           ...               ...   \n",
       "7038               2             0             0                 2   \n",
       "7039               0             2             2                 2   \n",
       "7040               2             0             0                 0   \n",
       "7041               0             0             0                 0   \n",
       "7042               2             0             0                 2   \n",
       "\n",
       "      TechSupport  StreamingTV  Contract  PaperlessBilling  PaymentMethod  \\\n",
       "0               0            0         0                 1              2   \n",
       "1               0            0         1                 0              3   \n",
       "2               0            0         0                 1              3   \n",
       "3               2            0         1                 0              0   \n",
       "4               0            0         0                 1              2   \n",
       "...           ...          ...       ...               ...            ...   \n",
       "7038            2            2         1                 1              3   \n",
       "7039            0            2         1                 1              1   \n",
       "7040            0            0         0                 1              2   \n",
       "7041            0            0         0                 1              3   \n",
       "7042            2            2         2                 1              0   \n",
       "\n",
       "      Churn  \n",
       "0         0  \n",
       "1         0  \n",
       "2         1  \n",
       "3         0  \n",
       "4         1  \n",
       "...     ...  \n",
       "7038      0  \n",
       "7039      0  \n",
       "7040      0  \n",
       "7041      1  \n",
       "7042      0  \n",
       "\n",
       "[7043 rows x 20 columns]"
      ]
     },
     "execution_count": 145,
     "metadata": {},
     "output_type": "execute_result"
    }
   ],
   "source": [
    "#Rearranging columns\n",
    "df = df[['SeniorCitizen', 'tenure', 'MonthlyCharges', 'TotalCharges',\n",
    "        'gender', 'Partner', 'Dependents',\n",
    "       'PhoneService', 'MultipleLines',\n",
    "       'InternetService', 'OnlineSecurity', 'OnlineBackup',\n",
    "       'OnlineBackup', 'DeviceProtection', 'TechSupport',\n",
    "        'StreamingTV','Contract', 'PaperlessBilling',\n",
    "       'PaymentMethod','Churn']]\n",
    "df\n"
   ]
  },
  {
   "cell_type": "markdown",
   "metadata": {},
   "source": [
    "<font size=\"3\"> Data Imputation </font>"
   ]
  },
  {
   "cell_type": "code",
   "execution_count": 146,
   "metadata": {
    "execution": {
     "iopub.execute_input": "2021-11-09T03:53:15.082462Z",
     "iopub.status.busy": "2021-11-09T03:53:15.082111Z",
     "iopub.status.idle": "2021-11-09T03:53:15.103525Z",
     "shell.execute_reply": "2021-11-09T03:53:15.102463Z",
     "shell.execute_reply.started": "2021-11-09T03:53:15.082399Z"
    },
    "id": "2qrSJqWzWCgb"
   },
   "outputs": [],
   "source": [
    "#Feature Scaling\n",
    "from sklearn.preprocessing import StandardScaler\n",
    "from sklearn.metrics import classification_report,confusion_matrix\n",
    "scaler = StandardScaler()\n",
    "scaler.fit(df.drop(['Churn'],axis = 1))\n",
    "scaled_features = scaler.transform(df.drop('Churn',axis = 1))"
   ]
  },
  {
   "cell_type": "code",
   "execution_count": 147,
   "metadata": {
    "execution": {
     "iopub.execute_input": "2021-11-09T03:53:15.106000Z",
     "iopub.status.busy": "2021-11-09T03:53:15.105329Z",
     "iopub.status.idle": "2021-11-09T03:53:15.116525Z",
     "shell.execute_reply": "2021-11-09T03:53:15.115285Z",
     "shell.execute_reply.started": "2021-11-09T03:53:15.105952Z"
    },
    "id": "qHoX9ic-WCgc"
   },
   "outputs": [],
   "source": [
    "#Feature Selection\n",
    "from sklearn.model_selection import train_test_split\n",
    "features = scaled_features\n",
    "target = df['Churn']\n",
    "features_train,features_test,target_train,target_test = train_test_split(features,target,test_size = 0.2,random_state=44)"
   ]
  },
  {
   "cell_type": "markdown",
   "metadata": {
    "id": "MPT35ZqRWCgd"
   },
   "source": [
    "<font Size = \"6\">Step 1: Model Development(Without SMOTE Technique)</font>"
   ]
  },
  {
   "cell_type": "markdown",
   "metadata": {
    "id": "2o0cmNAElYwi"
   },
   "source": [
    "### Logistic Regression"
   ]
  },
  {
   "cell_type": "code",
   "execution_count": 148,
   "metadata": {
    "colab": {
     "base_uri": "https://localhost:8080/"
    },
    "execution": {
     "iopub.execute_input": "2021-11-09T03:53:42.228616Z",
     "iopub.status.busy": "2021-11-09T03:53:42.227007Z",
     "iopub.status.idle": "2021-11-09T03:53:42.319319Z",
     "shell.execute_reply": "2021-11-09T03:53:42.318141Z",
     "shell.execute_reply.started": "2021-11-09T03:53:42.228565Z"
    },
    "id": "o2XZAMMKWCge",
    "outputId": "263464ca-a28c-4b79-948d-33b8e56886fc"
   },
   "outputs": [
    {
     "data": {
      "text/plain": [
       "LogisticRegression()"
      ]
     },
     "execution_count": 148,
     "metadata": {},
     "output_type": "execute_result"
    }
   ],
   "source": [
    "#train logistic regression model\n",
    "from sklearn.linear_model import LogisticRegression\n",
    "logisticmodel = LogisticRegression()\n",
    "logisticmodel.fit(features_train,target_train)"
   ]
  },
  {
   "cell_type": "code",
   "execution_count": 149,
   "metadata": {
    "execution": {
     "iopub.execute_input": "2021-11-09T03:53:42.328549Z",
     "iopub.status.busy": "2021-11-09T03:53:42.325493Z",
     "iopub.status.idle": "2021-11-09T03:53:42.338505Z",
     "shell.execute_reply": "2021-11-09T03:53:42.337265Z",
     "shell.execute_reply.started": "2021-11-09T03:53:42.328497Z"
    },
    "id": "kMfNgwLGWCge"
   },
   "outputs": [
    {
     "data": {
      "text/plain": [
       "array([0, 0, 0, ..., 1, 0, 0], dtype=int64)"
      ]
     },
     "execution_count": 149,
     "metadata": {},
     "output_type": "execute_result"
    }
   ],
   "source": [
    "#prediction\n",
    "predR = logisticmodel.predict(features_test)\n",
    "predR"
   ]
  },
  {
   "cell_type": "code",
   "execution_count": 150,
   "metadata": {
    "colab": {
     "base_uri": "https://localhost:8080/"
    },
    "execution": {
     "iopub.execute_input": "2021-11-09T03:53:42.348885Z",
     "iopub.status.busy": "2021-11-09T03:53:42.344785Z",
     "iopub.status.idle": "2021-11-09T03:53:42.381860Z",
     "shell.execute_reply": "2021-11-09T03:53:42.380863Z",
     "shell.execute_reply.started": "2021-11-09T03:53:42.348824Z"
    },
    "id": "xg52K31FWCge",
    "outputId": "e8df6bbb-13e5-495f-c866-2c01ac9c80d1"
   },
   "outputs": [
    {
     "data": {
      "text/plain": [
       "<AxesSubplot:>"
      ]
     },
     "execution_count": 150,
     "metadata": {},
     "output_type": "execute_result"
    },
    {
     "data": {
      "image/png": "[encoded data removed]",
      "text/plain": [
       "<Figure size 432x288 with 2 Axes>"
      ]
     },
     "metadata": {
      "needs_background": "light"
     },
     "output_type": "display_data"
    }
   ],
   "source": [
    "#print classification report\n",
    "clf_report=classification_report(target_test,predR,target_names=['Churn(No)','Churn(Yes)'],output_dict=True)\n",
    "clf_report\n",
    "sns.heatmap(pd.DataFrame(clf_report).iloc[:-1, :].T, annot=True)"
   ]
  },
  {
   "cell_type": "code",
   "execution_count": 248,
   "metadata": {
    "colab": {
     "base_uri": "https://localhost:8080/"
    },
    "execution": {
     "iopub.execute_input": "2021-11-09T03:53:42.390863Z",
     "iopub.status.busy": "2021-11-09T03:53:42.388123Z",
     "iopub.status.idle": "2021-11-09T03:53:42.405849Z",
     "shell.execute_reply": "2021-11-09T03:53:42.404464Z",
     "shell.execute_reply.started": "2021-11-09T03:53:42.390782Z"
    },
    "id": "-Yg4w_XaWCge",
    "outputId": "23ab82e7-2beb-4d88-8b5c-335038ace7af"
   },
   "outputs": [
    {
     "name": "stdout",
     "output_type": "stream",
     "text": [
      "Score for Logistic Regression is:  0.7164251207729468\n"
     ]
    }
   ],
   "source": [
    "#print score\n",
    "print(\"Score for Logistic Regression is: \", logisticmodel.score(features_test,target_test))"
   ]
  },
  {
   "cell_type": "code",
   "execution_count": 152,
   "metadata": {
    "id": "VKHtYacCjLna"
   },
   "outputs": [],
   "source": [
    "#confusion matrix\n",
    "confusionmatrixvariable=confusion_matrix(target_test,predR)\n",
    "df_confusionmatrixvariable = pd.DataFrame(confusionmatrixvariable, index=['No','Yes'], columns=['No','Yes'])"
   ]
  },
  {
   "cell_type": "code",
   "execution_count": 153,
   "metadata": {
    "colab": {
     "base_uri": "https://localhost:8080/"
    },
    "id": "WpEuoyyti6Ii",
    "outputId": "f6005dc4-c67e-4006-ff94-6bd7ef90d955"
   },
   "outputs": [
    {
     "data": {
      "text/html": [
       "<div>\n",
       "<style scoped>\n",
       "    .dataframe tbody tr th:only-of-type {\n",
       "        vertical-align: middle;\n",
       "    }\n",
       "\n",
       "    .dataframe tbody tr th {\n",
       "        vertical-align: top;\n",
       "    }\n",
       "\n",
       "    .dataframe thead th {\n",
       "        text-align: right;\n",
       "    }\n",
       "</style>\n",
       "<table border=\"1\" class=\"dataframe\">\n",
       "  <thead>\n",
       "    <tr style=\"text-align: right;\">\n",
       "      <th></th>\n",
       "      <th>No</th>\n",
       "      <th>Yes</th>\n",
       "    </tr>\n",
       "  </thead>\n",
       "  <tbody>\n",
       "    <tr>\n",
       "      <th>No</th>\n",
       "      <td>948</td>\n",
       "      <td>79</td>\n",
       "    </tr>\n",
       "    <tr>\n",
       "      <th>Yes</th>\n",
       "      <td>197</td>\n",
       "      <td>185</td>\n",
       "    </tr>\n",
       "  </tbody>\n",
       "</table>\n",
       "</div>"
      ],
      "text/plain": [
       "      No  Yes\n",
       "No   948   79\n",
       "Yes  197  185"
      ]
     },
     "execution_count": 153,
     "metadata": {},
     "output_type": "execute_result"
    }
   ],
   "source": [
    "df_confusionmatrixvariable"
   ]
  },
  {
   "cell_type": "code",
   "execution_count": 154,
   "metadata": {
    "colab": {
     "base_uri": "https://localhost:8080/"
    },
    "id": "bYrniUw7b1Ft",
    "outputId": "6583b893-9f69-432b-b05a-25838025134a"
   },
   "outputs": [
    {
     "name": "stdout",
     "output_type": "stream",
     "text": [
      "Recall Value for Logistic Regression is:  0.48429319371727747\n"
     ]
    }
   ],
   "source": [
    "print(\"Recall Value for Logistic Regression is: \", recall_score(target_test,predR))"
   ]
  },
  {
   "cell_type": "markdown",
   "metadata": {
    "id": "T4M3XYPG5mPv"
   },
   "source": [
    "### Naive Bayes Model"
   ]
  },
  {
   "cell_type": "code",
   "execution_count": 155,
   "metadata": {
    "colab": {
     "base_uri": "https://localhost:8080/"
    },
    "execution": {
     "iopub.execute_input": "2021-11-09T03:53:42.228616Z",
     "iopub.status.busy": "2021-11-09T03:53:42.227007Z",
     "iopub.status.idle": "2021-11-09T03:53:42.319319Z",
     "shell.execute_reply": "2021-11-09T03:53:42.318141Z",
     "shell.execute_reply.started": "2021-11-09T03:53:42.228565Z"
    },
    "id": "2P77r7Rk5mPw",
    "outputId": "7619f479-4ed6-4a04-8d07-dc5fe1458922"
   },
   "outputs": [
    {
     "data": {
      "text/plain": [
       "GaussianNB()"
      ]
     },
     "execution_count": 155,
     "metadata": {},
     "output_type": "execute_result"
    }
   ],
   "source": [
    "from sklearn.naive_bayes import GaussianNB\n",
    "nb_model = GaussianNB()\n",
    "nb_model.fit(features_train,target_train)"
   ]
  },
  {
   "cell_type": "code",
   "execution_count": 246,
   "metadata": {
    "execution": {
     "iopub.execute_input": "2021-11-09T03:53:42.328549Z",
     "iopub.status.busy": "2021-11-09T03:53:42.325493Z",
     "iopub.status.idle": "2021-11-09T03:53:42.338505Z",
     "shell.execute_reply": "2021-11-09T03:53:42.337265Z",
     "shell.execute_reply.started": "2021-11-09T03:53:42.328497Z"
    },
    "id": "2p-9bCMN5mPw"
   },
   "outputs": [],
   "source": [
    "predNB = nb_model.predict(features_test)"
   ]
  },
  {
   "cell_type": "code",
   "execution_count": 157,
   "metadata": {
    "colab": {
     "base_uri": "https://localhost:8080/"
    },
    "execution": {
     "iopub.execute_input": "2021-11-09T03:53:42.348885Z",
     "iopub.status.busy": "2021-11-09T03:53:42.344785Z",
     "iopub.status.idle": "2021-11-09T03:53:42.381860Z",
     "shell.execute_reply": "2021-11-09T03:53:42.380863Z",
     "shell.execute_reply.started": "2021-11-09T03:53:42.348824Z"
    },
    "id": "r1Y6LJ8k5mPx",
    "outputId": "17acbb1a-bb01-450e-cfdb-3d20368118c3"
   },
   "outputs": [
    {
     "data": {
      "text/plain": [
       "<AxesSubplot:>"
      ]
     },
     "execution_count": 157,
     "metadata": {},
     "output_type": "execute_result"
    },
    {
     "data": {
      "image/png": "[encoded data removed]",
      "text/plain": [
       "<Figure size 432x288 with 2 Axes>"
      ]
     },
     "metadata": {
      "needs_background": "light"
     },
     "output_type": "display_data"
    }
   ],
   "source": [
    "clf_report=classification_report(target_test,predNB,target_names=['Churn(No)','Churn(Yes)'],output_dict=True)\n",
    "sns.heatmap(pd.DataFrame(clf_report).iloc[:-1, :].T, annot=True)"
   ]
  },
  {
   "cell_type": "code",
   "execution_count": 158,
   "metadata": {
    "colab": {
     "base_uri": "https://localhost:8080/"
    },
    "execution": {
     "iopub.execute_input": "2021-11-09T03:53:42.390863Z",
     "iopub.status.busy": "2021-11-09T03:53:42.388123Z",
     "iopub.status.idle": "2021-11-09T03:53:42.405849Z",
     "shell.execute_reply": "2021-11-09T03:53:42.404464Z",
     "shell.execute_reply.started": "2021-11-09T03:53:42.390782Z"
    },
    "id": "BmT_gpfu5mPx",
    "outputId": "15543109-e7bc-4631-b3d2-7da45a270114"
   },
   "outputs": [
    {
     "name": "stdout",
     "output_type": "stream",
     "text": [
      "Score for Naive Baye's gaussian Model is:  0.759403832505323\n"
     ]
    }
   ],
   "source": [
    "print(\"Score for Naive Baye's gaussian Model is: \", nb_model.score(features_test,target_test))"
   ]
  },
  {
   "cell_type": "code",
   "execution_count": 159,
   "metadata": {
    "id": "bvW8-iGi5mPx"
   },
   "outputs": [],
   "source": [
    "confusionmatrixvariable=confusion_matrix(target_test,predNB)\n",
    "df_confusionmatrixvariable = pd.DataFrame(confusionmatrixvariable, index=['No','Yes'], columns=['No','Yes'])"
   ]
  },
  {
   "cell_type": "code",
   "execution_count": 160,
   "metadata": {
    "colab": {
     "base_uri": "https://localhost:8080/"
    },
    "id": "DQ3m0bwn5mPx",
    "outputId": "7903f21c-e911-46eb-ad2c-d3cc7b351143"
   },
   "outputs": [
    {
     "data": {
      "text/html": [
       "<div>\n",
       "<style scoped>\n",
       "    .dataframe tbody tr th:only-of-type {\n",
       "        vertical-align: middle;\n",
       "    }\n",
       "\n",
       "    .dataframe tbody tr th {\n",
       "        vertical-align: top;\n",
       "    }\n",
       "\n",
       "    .dataframe thead th {\n",
       "        text-align: right;\n",
       "    }\n",
       "</style>\n",
       "<table border=\"1\" class=\"dataframe\">\n",
       "  <thead>\n",
       "    <tr style=\"text-align: right;\">\n",
       "      <th></th>\n",
       "      <th>No</th>\n",
       "      <th>Yes</th>\n",
       "    </tr>\n",
       "  </thead>\n",
       "  <tbody>\n",
       "    <tr>\n",
       "      <th>No</th>\n",
       "      <td>795</td>\n",
       "      <td>232</td>\n",
       "    </tr>\n",
       "    <tr>\n",
       "      <th>Yes</th>\n",
       "      <td>107</td>\n",
       "      <td>275</td>\n",
       "    </tr>\n",
       "  </tbody>\n",
       "</table>\n",
       "</div>"
      ],
      "text/plain": [
       "      No  Yes\n",
       "No   795  232\n",
       "Yes  107  275"
      ]
     },
     "execution_count": 160,
     "metadata": {},
     "output_type": "execute_result"
    }
   ],
   "source": [
    "from pretty_confusion_matrix import pp_matrix\n",
    "df_confusionmatrixvariable"
   ]
  },
  {
   "cell_type": "code",
   "execution_count": 161,
   "metadata": {
    "colab": {
     "base_uri": "https://localhost:8080/"
    },
    "id": "wLHa__Ozb54X",
    "outputId": "3c055048-c333-49ab-b9fa-2e7c4365bb74"
   },
   "outputs": [
    {
     "data": {
      "text/plain": [
       "0.7198952879581152"
      ]
     },
     "execution_count": 161,
     "metadata": {},
     "output_type": "execute_result"
    }
   ],
   "source": [
    "recall_score(target_test,predNB)"
   ]
  },
  {
   "cell_type": "markdown",
   "metadata": {
    "id": "kIr22Ri16bKp"
   },
   "source": [
    "### Random Forest Classifier"
   ]
  },
  {
   "cell_type": "code",
   "execution_count": 162,
   "metadata": {
    "colab": {
     "base_uri": "https://localhost:8080/"
    },
    "execution": {
     "iopub.execute_input": "2021-11-09T03:53:42.228616Z",
     "iopub.status.busy": "2021-11-09T03:53:42.227007Z",
     "iopub.status.idle": "2021-11-09T03:53:42.319319Z",
     "shell.execute_reply": "2021-11-09T03:53:42.318141Z",
     "shell.execute_reply.started": "2021-11-09T03:53:42.228565Z"
    },
    "id": "X0EpOYgs6bKp",
    "outputId": "9b9da308-c6c1-4e21-f60c-57ed7c00ca3d"
   },
   "outputs": [
    {
     "data": {
      "text/plain": [
       "RandomForestClassifier()"
      ]
     },
     "execution_count": 162,
     "metadata": {},
     "output_type": "execute_result"
    }
   ],
   "source": [
    "from sklearn.ensemble import RandomForestClassifier\n",
    "rf_model = RandomForestClassifier()\n",
    "rf_model.fit(features_train,target_train)"
   ]
  },
  {
   "cell_type": "code",
   "execution_count": 163,
   "metadata": {
    "execution": {
     "iopub.execute_input": "2021-11-09T03:53:42.328549Z",
     "iopub.status.busy": "2021-11-09T03:53:42.325493Z",
     "iopub.status.idle": "2021-11-09T03:53:42.338505Z",
     "shell.execute_reply": "2021-11-09T03:53:42.337265Z",
     "shell.execute_reply.started": "2021-11-09T03:53:42.328497Z"
    },
    "id": "7MpqCYo96bKp"
   },
   "outputs": [],
   "source": [
    "predRF = rf_model.predict(features_test)"
   ]
  },
  {
   "cell_type": "code",
   "execution_count": 164,
   "metadata": {
    "colab": {
     "base_uri": "https://localhost:8080/",
     "height": 284
    },
    "execution": {
     "iopub.execute_input": "2021-11-09T03:53:42.348885Z",
     "iopub.status.busy": "2021-11-09T03:53:42.344785Z",
     "iopub.status.idle": "2021-11-09T03:53:42.381860Z",
     "shell.execute_reply": "2021-11-09T03:53:42.380863Z",
     "shell.execute_reply.started": "2021-11-09T03:53:42.348824Z"
    },
    "id": "StQPm6_q6bKq",
    "outputId": "b568666a-02fa-4c47-b8cd-10cbf2fd0901",
    "scrolled": true
   },
   "outputs": [
    {
     "data": {
      "text/plain": [
       "<AxesSubplot:>"
      ]
     },
     "execution_count": 164,
     "metadata": {},
     "output_type": "execute_result"
    },
    {
     "data": {
      "image/png": "[encoded data removed]",
      "text/plain": [
       "<Figure size 432x288 with 2 Axes>"
      ]
     },
     "metadata": {
      "needs_background": "light"
     },
     "output_type": "display_data"
    }
   ],
   "source": [
    "clf_report=classification_report(target_test,predRF,target_names=['Churn(No)','Churn(Yes)'],output_dict=True)\n",
    "sns.heatmap(pd.DataFrame(clf_report).iloc[:-1, :].T, annot=True)"
   ]
  },
  {
   "cell_type": "code",
   "execution_count": 165,
   "metadata": {
    "colab": {
     "base_uri": "https://localhost:8080/"
    },
    "execution": {
     "iopub.execute_input": "2021-11-09T03:53:42.390863Z",
     "iopub.status.busy": "2021-11-09T03:53:42.388123Z",
     "iopub.status.idle": "2021-11-09T03:53:42.405849Z",
     "shell.execute_reply": "2021-11-09T03:53:42.404464Z",
     "shell.execute_reply.started": "2021-11-09T03:53:42.390782Z"
    },
    "id": "L-ti07YT6bKq",
    "outputId": "92821df2-aed9-4012-ee26-b22e1cf7ba55"
   },
   "outputs": [
    {
     "data": {
      "text/plain": [
       "0.7806955287437899"
      ]
     },
     "execution_count": 165,
     "metadata": {},
     "output_type": "execute_result"
    }
   ],
   "source": [
    "rf_model.score(features_test,target_test)"
   ]
  },
  {
   "cell_type": "code",
   "execution_count": 166,
   "metadata": {
    "id": "tNjEf28o6bKq"
   },
   "outputs": [],
   "source": [
    "confusionmatrixvariable=confusion_matrix(target_test,predRF)\n",
    "df_confusionmatrixvariable = pd.DataFrame(confusionmatrixvariable, index=['No','Yes'], columns=['No','Yes'])"
   ]
  },
  {
   "cell_type": "code",
   "execution_count": 168,
   "metadata": {
    "colab": {
     "base_uri": "https://localhost:8080/"
    },
    "id": "r3Xr68Mub-Gt",
    "outputId": "cdd119b3-b9ff-44f8-c7db-caefa6ade796"
   },
   "outputs": [
    {
     "name": "stdout",
     "output_type": "stream",
     "text": [
      "Recall value for Naive Baye's is:  0.45287958115183247\n"
     ]
    }
   ],
   "source": [
    "print(\"Recall value for Naive Baye's is: \", recall_score(target_test,predRF))"
   ]
  },
  {
   "cell_type": "markdown",
   "metadata": {
    "id": "ATUpfUnN9EeH"
   },
   "source": [
    "### XGBoost"
   ]
  },
  {
   "cell_type": "code",
   "execution_count": 169,
   "metadata": {
    "colab": {
     "base_uri": "https://localhost:8080/"
    },
    "execution": {
     "iopub.execute_input": "2021-11-09T04:07:34.893182Z",
     "iopub.status.busy": "2021-11-09T04:07:34.892360Z",
     "iopub.status.idle": "2021-11-09T04:07:36.257163Z",
     "shell.execute_reply": "2021-11-09T04:07:36.256067Z",
     "shell.execute_reply.started": "2021-11-09T04:07:34.893134Z"
    },
    "id": "aXD5nsjUWCgk",
    "outputId": "bffe4033-531b-4cbd-83c6-6c06f8fa69ff"
   },
   "outputs": [
    {
     "name": "stdout",
     "output_type": "stream",
     "text": [
      "[18:43:52] WARNING: D:\\bld\\xgboost-split_1645118015404\\work\\src\\learner.cc:1115: Starting in XGBoost 1.3.0, the default evaluation metric used with the objective 'binary:logistic' was changed from 'error' to 'logloss'. Explicitly set eval_metric if you'd like to restore the old behavior.\n"
     ]
    },
    {
     "name": "stderr",
     "output_type": "stream",
     "text": [
      "C:\\Users\\kiran\\anaconda3\\lib\\site-packages\\xgboost\\sklearn.py:1224: UserWarning: The use of label encoder in XGBClassifier is deprecated and will be removed in a future release. To remove this warning, do the following: 1) Pass option use_label_encoder=False when constructing XGBClassifier object; and 2) Encode your labels (y) as integers starting with 0, i.e. 0, 1, 2, ..., [num_class - 1].\n",
      "  warnings.warn(label_encoder_deprecation_msg, UserWarning)\n"
     ]
    },
    {
     "data": {
      "text/plain": [
       "XGBClassifier(base_score=0.5, booster='gbtree', colsample_bylevel=1,\n",
       "              colsample_bynode=1, colsample_bytree=1, enable_categorical=False,\n",
       "              gamma=0, gpu_id=-1, importance_type=None,\n",
       "              interaction_constraints='', learning_rate=0.300000012,\n",
       "              max_delta_step=0, max_depth=6, min_child_weight=1, missing=nan,\n",
       "              monotone_constraints='()', n_estimators=100, n_jobs=8,\n",
       "              num_parallel_tree=1, predictor='auto', random_state=0,\n",
       "              reg_alpha=0, reg_lambda=1, scale_pos_weight=1, subsample=1,\n",
       "              tree_method='exact', validate_parameters=1, verbosity=None)"
      ]
     },
     "execution_count": 169,
     "metadata": {},
     "output_type": "execute_result"
    }
   ],
   "source": [
    "from xgboost import XGBClassifier\n",
    "xgb_model = XGBClassifier()\n",
    "xgb_model.fit(features_train, target_train)"
   ]
  },
  {
   "cell_type": "code",
   "execution_count": 170,
   "metadata": {
    "id": "auzPWyxK9UYY"
   },
   "outputs": [],
   "source": [
    "predXGB = xgb_model.predict(features_test)"
   ]
  },
  {
   "cell_type": "code",
   "execution_count": 171,
   "metadata": {
    "colab": {
     "base_uri": "https://localhost:8080/",
     "height": 282
    },
    "execution": {
     "iopub.execute_input": "2021-11-09T03:53:42.348885Z",
     "iopub.status.busy": "2021-11-09T03:53:42.344785Z",
     "iopub.status.idle": "2021-11-09T03:53:42.381860Z",
     "shell.execute_reply": "2021-11-09T03:53:42.380863Z",
     "shell.execute_reply.started": "2021-11-09T03:53:42.348824Z"
    },
    "id": "PGKfzw_49mNC",
    "outputId": "152d2fd6-0219-4a0c-8413-c78acfc44f0a"
   },
   "outputs": [
    {
     "data": {
      "text/plain": [
       "<AxesSubplot:>"
      ]
     },
     "execution_count": 171,
     "metadata": {},
     "output_type": "execute_result"
    },
    {
     "data": {
      "image/png": "[encoded data removed]",
      "text/plain": [
       "<Figure size 432x288 with 2 Axes>"
      ]
     },
     "metadata": {
      "needs_background": "light"
     },
     "output_type": "display_data"
    }
   ],
   "source": [
    "clf_report=classification_report(target_test,predXGB,target_names=['Churn(No)','Churn(Yes)'],output_dict=True)\n",
    "sns.heatmap(pd.DataFrame(clf_report).iloc[:-1, :].T, annot=True)"
   ]
  },
  {
   "cell_type": "code",
   "execution_count": 172,
   "metadata": {
    "colab": {
     "base_uri": "https://localhost:8080/"
    },
    "execution": {
     "iopub.execute_input": "2021-11-09T03:53:42.390863Z",
     "iopub.status.busy": "2021-11-09T03:53:42.388123Z",
     "iopub.status.idle": "2021-11-09T03:53:42.405849Z",
     "shell.execute_reply": "2021-11-09T03:53:42.404464Z",
     "shell.execute_reply.started": "2021-11-09T03:53:42.390782Z"
    },
    "id": "U0ZocsvE9mNC",
    "outputId": "a784252f-6498-449e-b39c-c961b10119eb"
   },
   "outputs": [
    {
     "data": {
      "text/plain": [
       "0.7913413768630234"
      ]
     },
     "execution_count": 172,
     "metadata": {},
     "output_type": "execute_result"
    }
   ],
   "source": [
    "xgb_model.score(features_test,target_test)"
   ]
  },
  {
   "cell_type": "code",
   "execution_count": 173,
   "metadata": {
    "id": "ZzmfC6gD9mNC"
   },
   "outputs": [],
   "source": [
    "confusionmatrixvariable=confusion_matrix(target_test,predXGB)\n",
    "df_confusionmatrixvariable = pd.DataFrame(confusionmatrixvariable, index=['No','Yes'], columns=['No','Yes'])"
   ]
  },
  {
   "cell_type": "code",
   "execution_count": 174,
   "metadata": {
    "colab": {
     "base_uri": "https://localhost:8080/"
    },
    "id": "aOhtKckkcAxd",
    "outputId": "dc11cfbf-7322-4540-b9f1-c062d57213c9"
   },
   "outputs": [
    {
     "name": "stdout",
     "output_type": "stream",
     "text": [
      "Recall value for XGBoost is:  0.5026178010471204\n"
     ]
    }
   ],
   "source": [
    "print(\"Recall value for XGBoost is: \", recall_score(target_test,predXGB))"
   ]
  },
  {
   "cell_type": "markdown",
   "metadata": {
    "id": "txRwETYAWCgg"
   },
   "source": [
    "## Hyper parameter Tuning ( Random Forest and XGBoost)"
   ]
  },
  {
   "cell_type": "code",
   "execution_count": 175,
   "metadata": {
    "colab": {
     "base_uri": "https://localhost:8080/"
    },
    "execution": {
     "iopub.execute_input": "2021-11-09T03:53:43.888781Z",
     "iopub.status.busy": "2021-11-09T03:53:43.888028Z",
     "iopub.status.idle": "2021-11-09T03:54:17.353014Z",
     "shell.execute_reply": "2021-11-09T03:54:17.350772Z",
     "shell.execute_reply.started": "2021-11-09T03:53:43.888734Z"
    },
    "id": "PJFCK5xWWCgg",
    "outputId": "6e43a943-703f-49fb-e23d-857df2522551"
   },
   "outputs": [
    {
     "name": "stdout",
     "output_type": "stream",
     "text": [
      "Fitting 5 folds for each of 10 candidates, totalling 50 fits\n"
     ]
    },
    {
     "name": "stderr",
     "output_type": "stream",
     "text": [
      "C:\\Users\\kiran\\anaconda3\\lib\\site-packages\\xgboost\\sklearn.py:1224: UserWarning: The use of label encoder in XGBClassifier is deprecated and will be removed in a future release. To remove this warning, do the following: 1) Pass option use_label_encoder=False when constructing XGBClassifier object; and 2) Encode your labels (y) as integers starting with 0, i.e. 0, 1, 2, ..., [num_class - 1].\n",
      "  warnings.warn(label_encoder_deprecation_msg, UserWarning)\n"
     ]
    },
    {
     "name": "stdout",
     "output_type": "stream",
     "text": [
      "[18:44:17] WARNING: D:\\bld\\xgboost-split_1645118015404\\work\\src\\learner.cc:1115: Starting in XGBoost 1.3.0, the default evaluation metric used with the objective 'binary:logistic' was changed from 'error' to 'logloss'. Explicitly set eval_metric if you'd like to restore the old behavior.\n"
     ]
    },
    {
     "data": {
      "text/plain": [
       "RandomizedSearchCV(cv=5,\n",
       "                   estimator=XGBClassifier(base_score=0.5, booster='gbtree',\n",
       "                                           colsample_bylevel=1,\n",
       "                                           colsample_bynode=1,\n",
       "                                           colsample_bytree=1,\n",
       "                                           enable_categorical=False, gamma=0,\n",
       "                                           gpu_id=-1, importance_type=None,\n",
       "                                           interaction_constraints='',\n",
       "                                           learning_rate=0.300000012,\n",
       "                                           max_delta_step=0, max_depth=6,\n",
       "                                           min_child_weight=1, missing=nan,\n",
       "                                           monotone_constraints='()',\n",
       "                                           n_estimators=100, n_jobs=8,\n",
       "                                           num_parallel_tree=1,\n",
       "                                           predictor='auto', random_state=0,\n",
       "                                           reg_alpha=0, reg_lambda=1,\n",
       "                                           scale_pos_weight=1, subsample=1,\n",
       "                                           tree_method='exact',\n",
       "                                           validate_parameters=1,\n",
       "                                           verbosity=None),\n",
       "                   n_jobs=-1,\n",
       "                   param_distributions={'learning_rate': [0.1, 0.2, 0.3],\n",
       "                                        'max_depth': [6, 10, 15, 20]},\n",
       "                   scoring='recall', verbose=1)"
      ]
     },
     "execution_count": 175,
     "metadata": {},
     "output_type": "execute_result"
    }
   ],
   "source": [
    "from sklearn.model_selection import GridSearchCV,RandomizedSearchCV\n",
    "random_params_xgb={\n",
    "'learning_rate' : [0.1,  0.2,  0.3],\n",
    "'max_depth' : [ 6,10,15,20],\n",
    "}\n",
    "random_search = RandomizedSearchCV(xgb_model, random_params_xgb, scoring='recall',cv = 5, n_jobs = -1, verbose = 1)\n",
    "random_search.fit(features_train, target_train)"
   ]
  },
  {
   "cell_type": "code",
   "execution_count": 176,
   "metadata": {
    "colab": {
     "base_uri": "https://localhost:8080/"
    },
    "id": "o0cQfNEocEq1",
    "outputId": "5d587f0b-fbe8-4a0c-e90e-69b53197256d"
   },
   "outputs": [
    {
     "name": "stdout",
     "output_type": "stream",
     "text": [
      "XGBClassifier(base_score=0.5, booster='gbtree', colsample_bylevel=1,\n",
      "              colsample_bynode=1, colsample_bytree=1, enable_categorical=False,\n",
      "              gamma=0, gpu_id=-1, importance_type=None,\n",
      "              interaction_constraints='', learning_rate=0.1, max_delta_step=0,\n",
      "              max_depth=6, min_child_weight=1, missing=nan,\n",
      "              monotone_constraints='()', n_estimators=100, n_jobs=8,\n",
      "              num_parallel_tree=1, predictor='auto', random_state=0,\n",
      "              reg_alpha=0, reg_lambda=1, scale_pos_weight=1, subsample=1,\n",
      "              tree_method='exact', validate_parameters=1, verbosity=None)\n",
      "0.5111043319097011\n"
     ]
    }
   ],
   "source": [
    "print(random_search.best_estimator_)\n",
    "print(random_search.best_score_)"
   ]
  },
  {
   "cell_type": "code",
   "execution_count": 177,
   "metadata": {
    "colab": {
     "base_uri": "https://localhost:8080/"
    },
    "id": "HC2fr4tXcMYH",
    "outputId": "8c858fcf-5148-47e6-fed7-191ebacfbeee"
   },
   "outputs": [
    {
     "name": "stdout",
     "output_type": "stream",
     "text": [
      "[18:44:17] WARNING: D:\\bld\\xgboost-split_1645118015404\\work\\src\\learner.cc:1115: Starting in XGBoost 1.3.0, the default evaluation metric used with the objective 'binary:logistic' was changed from 'error' to 'logloss'. Explicitly set eval_metric if you'd like to restore the old behavior.\n"
     ]
    },
    {
     "data": {
      "text/plain": [
       "XGBClassifier(base_score=0.5, booster='gbtree', colsample_bylevel=1,\n",
       "              colsample_bynode=1, colsample_bytree=1, enable_categorical=False,\n",
       "              gamma=0, gpu_id=-1, importance_type=None,\n",
       "              interaction_constraints='', learning_rate=0.1, max_delta_step=0,\n",
       "              max_depth=6, min_child_weight=1, missing=nan,\n",
       "              monotone_constraints='()', n_estimators=100, n_jobs=8,\n",
       "              num_parallel_tree=1, predictor='auto', random_state=0,\n",
       "              reg_alpha=0, reg_lambda=1, scale_pos_weight=1, subsample=1,\n",
       "              tree_method='exact', validate_parameters=1, verbosity=None)"
      ]
     },
     "execution_count": 177,
     "metadata": {},
     "output_type": "execute_result"
    }
   ],
   "source": [
    "xgb_model=random_search.best_estimator_\n",
    "xgb_model.fit(features_train, target_train)"
   ]
  },
  {
   "cell_type": "code",
   "execution_count": 178,
   "metadata": {
    "id": "baBCL616ck3I"
   },
   "outputs": [],
   "source": [
    "predXGB = xgb_model.predict(features_test)"
   ]
  },
  {
   "cell_type": "code",
   "execution_count": 179,
   "metadata": {
    "colab": {
     "base_uri": "https://localhost:8080/"
    },
    "id": "7KkGnYD9XdDR",
    "outputId": "fb34dd11-1928-4df3-8030-89328f364909"
   },
   "outputs": [
    {
     "data": {
      "text/plain": [
       "0.49476439790575916"
      ]
     },
     "execution_count": 179,
     "metadata": {},
     "output_type": "execute_result"
    }
   ],
   "source": [
    "recall_score(target_test,predXGB)"
   ]
  },
  {
   "cell_type": "code",
   "execution_count": 180,
   "metadata": {
    "colab": {
     "base_uri": "https://localhost:8080/",
     "height": 282
    },
    "execution": {
     "iopub.execute_input": "2021-11-09T03:53:42.348885Z",
     "iopub.status.busy": "2021-11-09T03:53:42.344785Z",
     "iopub.status.idle": "2021-11-09T03:53:42.381860Z",
     "shell.execute_reply": "2021-11-09T03:53:42.380863Z",
     "shell.execute_reply.started": "2021-11-09T03:53:42.348824Z"
    },
    "id": "bsuoB19Sck3I",
    "outputId": "bb6caea2-1ab8-4c46-f24d-9671b0d3db61"
   },
   "outputs": [
    {
     "data": {
      "text/plain": [
       "<AxesSubplot:>"
      ]
     },
     "execution_count": 180,
     "metadata": {},
     "output_type": "execute_result"
    },
    {
     "data": {
      "image/png": "[encoded data removed]",
      "text/plain": [
       "<Figure size 432x288 with 2 Axes>"
      ]
     },
     "metadata": {
      "needs_background": "light"
     },
     "output_type": "display_data"
    }
   ],
   "source": [
    "clf_report=classification_report(target_test,predXGB,target_names=['Churn(No)','Churn(Yes)'],output_dict=True)\n",
    "sns.heatmap(pd.DataFrame(clf_report).iloc[:-1, :].T, annot=True)"
   ]
  },
  {
   "cell_type": "code",
   "execution_count": 181,
   "metadata": {
    "colab": {
     "base_uri": "https://localhost:8080/"
    },
    "execution": {
     "iopub.execute_input": "2021-11-09T03:53:42.390863Z",
     "iopub.status.busy": "2021-11-09T03:53:42.388123Z",
     "iopub.status.idle": "2021-11-09T03:53:42.405849Z",
     "shell.execute_reply": "2021-11-09T03:53:42.404464Z",
     "shell.execute_reply.started": "2021-11-09T03:53:42.390782Z"
    },
    "id": "rkTrDv8Yck3I",
    "outputId": "e5363d5b-c7a3-4557-c546-90fa747973f9"
   },
   "outputs": [
    {
     "data": {
      "text/plain": [
       "0.7927608232789212"
      ]
     },
     "execution_count": 181,
     "metadata": {},
     "output_type": "execute_result"
    }
   ],
   "source": [
    "xgb_model.score(features_test,target_test)"
   ]
  },
  {
   "cell_type": "code",
   "execution_count": 182,
   "metadata": {
    "id": "t-N7byrCck3I"
   },
   "outputs": [
    {
     "data": {
      "text/html": [
       "<div>\n",
       "<style scoped>\n",
       "    .dataframe tbody tr th:only-of-type {\n",
       "        vertical-align: middle;\n",
       "    }\n",
       "\n",
       "    .dataframe tbody tr th {\n",
       "        vertical-align: top;\n",
       "    }\n",
       "\n",
       "    .dataframe thead th {\n",
       "        text-align: right;\n",
       "    }\n",
       "</style>\n",
       "<table border=\"1\" class=\"dataframe\">\n",
       "  <thead>\n",
       "    <tr style=\"text-align: right;\">\n",
       "      <th></th>\n",
       "      <th>No</th>\n",
       "      <th>Yes</th>\n",
       "    </tr>\n",
       "  </thead>\n",
       "  <tbody>\n",
       "    <tr>\n",
       "      <th>No</th>\n",
       "      <td>928</td>\n",
       "      <td>99</td>\n",
       "    </tr>\n",
       "    <tr>\n",
       "      <th>Yes</th>\n",
       "      <td>193</td>\n",
       "      <td>189</td>\n",
       "    </tr>\n",
       "  </tbody>\n",
       "</table>\n",
       "</div>"
      ],
      "text/plain": [
       "      No  Yes\n",
       "No   928   99\n",
       "Yes  193  189"
      ]
     },
     "execution_count": 182,
     "metadata": {},
     "output_type": "execute_result"
    }
   ],
   "source": [
    "cm=confusion_matrix(target_test,predXGB)\n",
    "df_confusionmatrixvariable = pd.DataFrame(cm, index=['No','Yes'], columns=['No','Yes'])\n",
    "df_confusionmatrixvariable"
   ]
  },
  {
   "cell_type": "code",
   "execution_count": 183,
   "metadata": {
    "colab": {
     "base_uri": "https://localhost:8080/"
    },
    "id": "3uhEOaBGact4",
    "outputId": "8aaf2067-4fae-4205-a3fb-88a4a8c351bd"
   },
   "outputs": [
    {
     "name": "stdout",
     "output_type": "stream",
     "text": [
      "Fitting 5 folds for each of 10 candidates, totalling 50 fits\n"
     ]
    },
    {
     "name": "stderr",
     "output_type": "stream",
     "text": [
      "C:\\Users\\kiran\\anaconda3\\lib\\site-packages\\sklearn\\model_selection\\_validation.py:372: FitFailedWarning: \n",
      "10 fits failed out of a total of 50.\n",
      "The score on these train-test partitions for these parameters will be set to nan.\n",
      "If these failures are not expected, you can try to debug them by setting error_score='raise'.\n",
      "\n",
      "Below are more details about the failures:\n",
      "--------------------------------------------------------------------------------\n",
      "5 fits failed with the following error:\n",
      "Traceback (most recent call last):\n",
      "  File \"C:\\Users\\kiran\\anaconda3\\lib\\site-packages\\sklearn\\model_selection\\_validation.py\", line 680, in _fit_and_score\n",
      "    estimator.fit(X_train, y_train, **fit_params)\n",
      "  File \"C:\\Users\\kiran\\anaconda3\\lib\\site-packages\\sklearn\\ensemble\\_forest.py\", line 450, in fit\n",
      "    trees = Parallel(\n",
      "  File \"C:\\Users\\kiran\\anaconda3\\lib\\site-packages\\joblib\\parallel.py\", line 1043, in __call__\n",
      "    if self.dispatch_one_batch(iterator):\n",
      "  File \"C:\\Users\\kiran\\anaconda3\\lib\\site-packages\\joblib\\parallel.py\", line 861, in dispatch_one_batch\n",
      "    self._dispatch(tasks)\n",
      "  File \"C:\\Users\\kiran\\anaconda3\\lib\\site-packages\\joblib\\parallel.py\", line 779, in _dispatch\n",
      "    job = self._backend.apply_async(batch, callback=cb)\n",
      "  File \"C:\\Users\\kiran\\anaconda3\\lib\\site-packages\\joblib\\_parallel_backends.py\", line 208, in apply_async\n",
      "    result = ImmediateResult(func)\n",
      "  File \"C:\\Users\\kiran\\anaconda3\\lib\\site-packages\\joblib\\_parallel_backends.py\", line 572, in __init__\n",
      "    self.results = batch()\n",
      "  File \"C:\\Users\\kiran\\anaconda3\\lib\\site-packages\\joblib\\parallel.py\", line 262, in __call__\n",
      "    return [func(*args, **kwargs)\n",
      "  File \"C:\\Users\\kiran\\anaconda3\\lib\\site-packages\\joblib\\parallel.py\", line 262, in <listcomp>\n",
      "    return [func(*args, **kwargs)\n",
      "  File \"C:\\Users\\kiran\\anaconda3\\lib\\site-packages\\sklearn\\utils\\fixes.py\", line 216, in __call__\n",
      "    return self.function(*args, **kwargs)\n",
      "  File \"C:\\Users\\kiran\\anaconda3\\lib\\site-packages\\sklearn\\ensemble\\_forest.py\", line 185, in _parallel_build_trees\n",
      "    tree.fit(X, y, sample_weight=curr_sample_weight, check_input=False)\n",
      "  File \"C:\\Users\\kiran\\anaconda3\\lib\\site-packages\\sklearn\\tree\\_classes.py\", line 937, in fit\n",
      "    super().fit(\n",
      "  File \"C:\\Users\\kiran\\anaconda3\\lib\\site-packages\\sklearn\\tree\\_classes.py\", line 250, in fit\n",
      "    raise ValueError(\n",
      "ValueError: min_samples_split must be an integer greater than 1 or a float in (0.0, 1.0]; got the integer 1\n",
      "\n",
      "--------------------------------------------------------------------------------\n",
      "5 fits failed with the following error:\n",
      "Traceback (most recent call last):\n",
      "  File \"C:\\Users\\kiran\\anaconda3\\lib\\site-packages\\sklearn\\model_selection\\_validation.py\", line 680, in _fit_and_score\n",
      "    estimator.fit(X_train, y_train, **fit_params)\n",
      "  File \"C:\\Users\\kiran\\anaconda3\\lib\\site-packages\\sklearn\\ensemble\\_forest.py\", line 450, in fit\n",
      "    trees = Parallel(\n",
      "  File \"C:\\Users\\kiran\\anaconda3\\lib\\site-packages\\joblib\\parallel.py\", line 1043, in __call__\n",
      "    if self.dispatch_one_batch(iterator):\n",
      "  File \"C:\\Users\\kiran\\anaconda3\\lib\\site-packages\\joblib\\parallel.py\", line 861, in dispatch_one_batch\n",
      "    self._dispatch(tasks)\n",
      "  File \"C:\\Users\\kiran\\anaconda3\\lib\\site-packages\\joblib\\parallel.py\", line 779, in _dispatch\n",
      "    job = self._backend.apply_async(batch, callback=cb)\n",
      "  File \"C:\\Users\\kiran\\anaconda3\\lib\\site-packages\\joblib\\_parallel_backends.py\", line 208, in apply_async\n",
      "    result = ImmediateResult(func)\n",
      "  File \"C:\\Users\\kiran\\anaconda3\\lib\\site-packages\\joblib\\_parallel_backends.py\", line 572, in __init__\n",
      "    self.results = batch()\n",
      "  File \"C:\\Users\\kiran\\anaconda3\\lib\\site-packages\\joblib\\parallel.py\", line 262, in __call__\n",
      "    return [func(*args, **kwargs)\n",
      "  File \"C:\\Users\\kiran\\anaconda3\\lib\\site-packages\\joblib\\parallel.py\", line 262, in <listcomp>\n",
      "    return [func(*args, **kwargs)\n",
      "  File \"C:\\Users\\kiran\\anaconda3\\lib\\site-packages\\sklearn\\utils\\fixes.py\", line 216, in __call__\n",
      "    return self.function(*args, **kwargs)\n",
      "  File \"C:\\Users\\kiran\\anaconda3\\lib\\site-packages\\sklearn\\ensemble\\_forest.py\", line 185, in _parallel_build_trees\n",
      "    tree.fit(X, y, sample_weight=curr_sample_weight, check_input=False)\n",
      "  File \"C:\\Users\\kiran\\anaconda3\\lib\\site-packages\\sklearn\\tree\\_classes.py\", line 937, in fit\n",
      "    super().fit(\n",
      "  File \"C:\\Users\\kiran\\anaconda3\\lib\\site-packages\\sklearn\\tree\\_classes.py\", line 306, in fit\n",
      "    raise ValueError(\"max_depth must be greater than zero. \")\n",
      "ValueError: max_depth must be greater than zero. \n",
      "\n",
      "  warnings.warn(some_fits_failed_message, FitFailedWarning)\n",
      "C:\\Users\\kiran\\anaconda3\\lib\\site-packages\\sklearn\\model_selection\\_search.py:969: UserWarning: One or more of the test scores are non-finite: [0.43913407 0.43912729        nan 0.50773733 0.43577159 0.44047861\n",
      " 0.37255327        nan 0.43711613 0.43644499]\n",
      "  warnings.warn(\n"
     ]
    },
    {
     "name": "stdout",
     "output_type": "stream",
     "text": [
      "RandomForestClassifier(criterion='entropy', max_depth=10, min_samples_split=6,\n",
      "                       n_estimators=200)\n",
      "0.5077373285426977\n"
     ]
    }
   ],
   "source": [
    "random_params_RF = {\n",
    "    'criterion' : ['gini', 'entropy'],\n",
    "    'max_depth' : [0,3, 5, 7, 10],\n",
    "    'min_samples_split' : range(1, 10, 1),\n",
    "    'min_samples_leaf' : range(1, 10, 1),\n",
    "    'n_estimators':[100,200,400,600,800]\n",
    "}\n",
    "random_search_RF = RandomizedSearchCV(rf_model, random_params_RF, scoring='recall',cv = 5, n_jobs = -1, verbose = 1)\n",
    "random_search_RF.fit(features_train, target_train)\n",
    "print(random_search_RF.best_estimator_)\n",
    "print(random_search_RF.best_score_)"
   ]
  },
  {
   "cell_type": "code",
   "execution_count": 184,
   "metadata": {
    "execution": {
     "iopub.execute_input": "2021-11-09T03:54:17.356050Z",
     "iopub.status.busy": "2021-11-09T03:54:17.355183Z",
     "iopub.status.idle": "2021-11-09T03:54:17.365157Z",
     "shell.execute_reply": "2021-11-09T03:54:17.364112Z",
     "shell.execute_reply.started": "2021-11-09T03:54:17.355987Z"
    },
    "id": "KkSW9uHeWCgg"
   },
   "outputs": [],
   "source": [
    "rf_model = random_search_RF.best_estimator_\n",
    "rf_model.fit(features_train,target_train)\n",
    "predRF = rf_model.predict(features_test)"
   ]
  },
  {
   "cell_type": "code",
   "execution_count": 185,
   "metadata": {
    "colab": {
     "base_uri": "https://localhost:8080/"
    },
    "execution": {
     "iopub.execute_input": "2021-11-09T03:54:17.382763Z",
     "iopub.status.busy": "2021-11-09T03:54:17.381597Z",
     "iopub.status.idle": "2021-11-09T03:54:17.392244Z",
     "shell.execute_reply": "2021-11-09T03:54:17.391120Z",
     "shell.execute_reply.started": "2021-11-09T03:54:17.382704Z"
    },
    "id": "KR0WMylvWCgg",
    "outputId": "644f31bf-fc87-469a-babc-a7539f755811"
   },
   "outputs": [
    {
     "data": {
      "text/plain": [
       "0.7991483321504613"
      ]
     },
     "execution_count": 185,
     "metadata": {},
     "output_type": "execute_result"
    }
   ],
   "source": [
    "rf_model.score(features_test,target_test)"
   ]
  },
  {
   "cell_type": "code",
   "execution_count": 186,
   "metadata": {
    "execution": {
     "iopub.execute_input": "2021-11-09T03:53:42.328549Z",
     "iopub.status.busy": "2021-11-09T03:53:42.325493Z",
     "iopub.status.idle": "2021-11-09T03:53:42.338505Z",
     "shell.execute_reply": "2021-11-09T03:53:42.337265Z",
     "shell.execute_reply.started": "2021-11-09T03:53:42.328497Z"
    },
    "id": "eX7QJM1bfRC_"
   },
   "outputs": [],
   "source": [
    "predRF = rf_model.predict(features_test)"
   ]
  },
  {
   "cell_type": "code",
   "execution_count": 187,
   "metadata": {
    "colab": {
     "base_uri": "https://localhost:8080/",
     "height": 282
    },
    "execution": {
     "iopub.execute_input": "2021-11-09T03:53:42.348885Z",
     "iopub.status.busy": "2021-11-09T03:53:42.344785Z",
     "iopub.status.idle": "2021-11-09T03:53:42.381860Z",
     "shell.execute_reply": "2021-11-09T03:53:42.380863Z",
     "shell.execute_reply.started": "2021-11-09T03:53:42.348824Z"
    },
    "id": "CDkQymNyfRDC",
    "outputId": "8960a382-fb6d-49ad-f7dd-4e3cfe9a1c2e"
   },
   "outputs": [
    {
     "data": {
      "text/plain": [
       "<AxesSubplot:>"
      ]
     },
     "execution_count": 187,
     "metadata": {},
     "output_type": "execute_result"
    },
    {
     "data": {
      "image/png": "[encoded data removed]",
      "text/plain": [
       "<Figure size 432x288 with 2 Axes>"
      ]
     },
     "metadata": {
      "needs_background": "light"
     },
     "output_type": "display_data"
    }
   ],
   "source": [
    "clf_report=classification_report(target_test,predRF,target_names=['Churn(No)','Churn(Yes)'],output_dict=True)\n",
    "sns.heatmap(pd.DataFrame(clf_report).iloc[:-1, :].T, annot=True)"
   ]
  },
  {
   "cell_type": "code",
   "execution_count": 188,
   "metadata": {
    "id": "EBuHhWIYfRDC"
   },
   "outputs": [],
   "source": [
    "cm=confusion_matrix(target_test,predRF)\n",
    "df_confusionmatrixvariable = pd.DataFrame(cm, index=['No','Yes'], columns=['No','Yes'])"
   ]
  },
  {
   "cell_type": "code",
   "execution_count": 189,
   "metadata": {
    "colab": {
     "base_uri": "https://localhost:8080/"
    },
    "id": "tM9sqje6fRDC",
    "outputId": "466c643d-1172-4dcc-c683-f368ec53595b"
   },
   "outputs": [
    {
     "data": {
      "text/plain": [
       "0.4895287958115183"
      ]
     },
     "execution_count": 189,
     "metadata": {},
     "output_type": "execute_result"
    }
   ],
   "source": [
    "recall_score(target_test,predRF)"
   ]
  },
  {
   "cell_type": "markdown",
   "metadata": {
    "id": "Dairfx9xdknI"
   },
   "source": [
    "# Step-2 Model Development(With SMOTE Technique)"
   ]
  },
  {
   "cell_type": "code",
   "execution_count": 247,
   "metadata": {
    "id": "eG9Ja8oYpkcN"
   },
   "outputs": [],
   "source": [
    "from imblearn.over_sampling import SMOTE \n",
    "oversample=SMOTE()\n",
    "features_new,target_new=oversample.fit_resample(features,target)"
   ]
  },
  {
   "cell_type": "code",
   "execution_count": 191,
   "metadata": {
    "colab": {
     "base_uri": "https://localhost:8080/"
    },
    "id": "_kue28Q4qMJQ",
    "outputId": "7196de65-c67d-4840-e14b-b5cb5c6f2149"
   },
   "outputs": [
    {
     "data": {
      "text/plain": [
       "((10348, 19), (10348,))"
      ]
     },
     "execution_count": 191,
     "metadata": {},
     "output_type": "execute_result"
    }
   ],
   "source": [
    "features_new.shape,target_new.shape"
   ]
  },
  {
   "cell_type": "code",
   "execution_count": 192,
   "metadata": {
    "id": "2sYW05eRqR2F"
   },
   "outputs": [],
   "source": [
    "features_train, features_test, target_train, target_test = train_test_split( features_new, target_new, test_size=0.2, random_state=44)"
   ]
  },
  {
   "cell_type": "markdown",
   "metadata": {
    "id": "6LpE5cA4qjkR"
   },
   "source": [
    "### Logistic Regression"
   ]
  },
  {
   "cell_type": "code",
   "execution_count": 193,
   "metadata": {
    "colab": {
     "base_uri": "https://localhost:8080/"
    },
    "execution": {
     "iopub.execute_input": "2021-11-09T03:53:42.228616Z",
     "iopub.status.busy": "2021-11-09T03:53:42.227007Z",
     "iopub.status.idle": "2021-11-09T03:53:42.319319Z",
     "shell.execute_reply": "2021-11-09T03:53:42.318141Z",
     "shell.execute_reply.started": "2021-11-09T03:53:42.228565Z"
    },
    "id": "s7YsRrneqjkR",
    "outputId": "6fe63bbb-1d9b-4f85-ab8f-cc21377b77d9"
   },
   "outputs": [
    {
     "data": {
      "text/plain": [
       "LogisticRegression()"
      ]
     },
     "execution_count": 193,
     "metadata": {},
     "output_type": "execute_result"
    }
   ],
   "source": [
    "from sklearn.linear_model import LogisticRegression\n",
    "logmodel = LogisticRegression()\n",
    "logmodel.fit(features_train,target_train)"
   ]
  },
  {
   "cell_type": "code",
   "execution_count": 194,
   "metadata": {
    "execution": {
     "iopub.execute_input": "2021-11-09T03:53:42.328549Z",
     "iopub.status.busy": "2021-11-09T03:53:42.325493Z",
     "iopub.status.idle": "2021-11-09T03:53:42.338505Z",
     "shell.execute_reply": "2021-11-09T03:53:42.337265Z",
     "shell.execute_reply.started": "2021-11-09T03:53:42.328497Z"
    },
    "id": "EKqTVxvZqjkR"
   },
   "outputs": [],
   "source": [
    "predR = logmodel.predict(features_test)"
   ]
  },
  {
   "cell_type": "code",
   "execution_count": 195,
   "metadata": {
    "colab": {
     "base_uri": "https://localhost:8080/",
     "height": 282
    },
    "execution": {
     "iopub.execute_input": "2021-11-09T03:53:42.348885Z",
     "iopub.status.busy": "2021-11-09T03:53:42.344785Z",
     "iopub.status.idle": "2021-11-09T03:53:42.381860Z",
     "shell.execute_reply": "2021-11-09T03:53:42.380863Z",
     "shell.execute_reply.started": "2021-11-09T03:53:42.348824Z"
    },
    "id": "chrL4DAjqjkR",
    "outputId": "c5363be4-10f7-424b-ecc4-3eb9317c3d91"
   },
   "outputs": [
    {
     "data": {
      "text/plain": [
       "<AxesSubplot:>"
      ]
     },
     "execution_count": 195,
     "metadata": {},
     "output_type": "execute_result"
    },
    {
     "data": {
      "image/png": "[encoded data removed]",
      "text/plain": [
       "<Figure size 432x288 with 2 Axes>"
      ]
     },
     "metadata": {
      "needs_background": "light"
     },
     "output_type": "display_data"
    }
   ],
   "source": [
    "clf_report=classification_report(target_test,predR,target_names=['Churn(No)','Churn(Yes)'],output_dict=True)\n",
    "sns.heatmap(pd.DataFrame(clf_report).iloc[:-1, :].T, annot=True)"
   ]
  },
  {
   "cell_type": "code",
   "execution_count": 196,
   "metadata": {
    "colab": {
     "base_uri": "https://localhost:8080/"
    },
    "execution": {
     "iopub.execute_input": "2021-11-09T03:53:42.390863Z",
     "iopub.status.busy": "2021-11-09T03:53:42.388123Z",
     "iopub.status.idle": "2021-11-09T03:53:42.405849Z",
     "shell.execute_reply": "2021-11-09T03:53:42.404464Z",
     "shell.execute_reply.started": "2021-11-09T03:53:42.390782Z"
    },
    "id": "c4X3HLDDqjkR",
    "outputId": "8acefa66-4fa0-41e3-962a-b55375d1b707"
   },
   "outputs": [
    {
     "name": "stdout",
     "output_type": "stream",
     "text": [
      "Logistic Regression with SMOTE TECHNIQUE has f1 Score of:  0.7806763285024154\n"
     ]
    }
   ],
   "source": [
    "print(\"Logistic Regression with SMOTE TECHNIQUE has f1 Score of: \", logmodel.score(features_test,target_test))"
   ]
  },
  {
   "cell_type": "code",
   "execution_count": 197,
   "metadata": {
    "id": "GR69ZeseqjkR"
   },
   "outputs": [],
   "source": [
    "confusionmatrixvariable=confusion_matrix(target_test,predR)\n",
    "df_confusionmatrixvariable = pd.DataFrame(cm, index=['No','Yes'], columns=['No','Yes'])"
   ]
  },
  {
   "cell_type": "code",
   "execution_count": 198,
   "metadata": {
    "colab": {
     "base_uri": "https://localhost:8080/"
    },
    "id": "K6GC9MKHqjkS",
    "outputId": "26f44a08-5afc-47fb-8535-6fe55ff8053a"
   },
   "outputs": [
    {
     "name": "stdout",
     "output_type": "stream",
     "text": [
      "Recall for Logistic Regression model is: 0.8030018761726079\n"
     ]
    }
   ],
   "source": [
    "print(\"Recall for Logistic Regression model is:\", recall_score(target_test,predR))"
   ]
  },
  {
   "cell_type": "markdown",
   "metadata": {
    "id": "ep4SB6ckqjkS"
   },
   "source": [
    "### Naive Bayes"
   ]
  },
  {
   "cell_type": "code",
   "execution_count": 199,
   "metadata": {
    "colab": {
     "base_uri": "https://localhost:8080/"
    },
    "execution": {
     "iopub.execute_input": "2021-11-09T03:53:42.228616Z",
     "iopub.status.busy": "2021-11-09T03:53:42.227007Z",
     "iopub.status.idle": "2021-11-09T03:53:42.319319Z",
     "shell.execute_reply": "2021-11-09T03:53:42.318141Z",
     "shell.execute_reply.started": "2021-11-09T03:53:42.228565Z"
    },
    "id": "Awm2UInXqjkS",
    "outputId": "ed8e1b48-ccf4-4814-93d0-cb5ed0d76515"
   },
   "outputs": [
    {
     "data": {
      "text/plain": [
       "GaussianNB()"
      ]
     },
     "execution_count": 199,
     "metadata": {},
     "output_type": "execute_result"
    }
   ],
   "source": [
    "from sklearn.naive_bayes import GaussianNB\n",
    "nb_model = GaussianNB()\n",
    "nb_model.fit(features_train,target_train)"
   ]
  },
  {
   "cell_type": "code",
   "execution_count": 200,
   "metadata": {
    "execution": {
     "iopub.execute_input": "2021-11-09T03:53:42.328549Z",
     "iopub.status.busy": "2021-11-09T03:53:42.325493Z",
     "iopub.status.idle": "2021-11-09T03:53:42.338505Z",
     "shell.execute_reply": "2021-11-09T03:53:42.337265Z",
     "shell.execute_reply.started": "2021-11-09T03:53:42.328497Z"
    },
    "id": "bJFT8_JdqjkS"
   },
   "outputs": [],
   "source": [
    "predNB = nb_model.predict(features_test)"
   ]
  },
  {
   "cell_type": "code",
   "execution_count": 201,
   "metadata": {
    "colab": {
     "base_uri": "https://localhost:8080/"
    },
    "execution": {
     "iopub.execute_input": "2021-11-09T03:53:42.348885Z",
     "iopub.status.busy": "2021-11-09T03:53:42.344785Z",
     "iopub.status.idle": "2021-11-09T03:53:42.381860Z",
     "shell.execute_reply": "2021-11-09T03:53:42.380863Z",
     "shell.execute_reply.started": "2021-11-09T03:53:42.348824Z"
    },
    "id": "kSm8Aff1qjkS",
    "outputId": "232c960a-22fc-4d39-8090-2161363bad52"
   },
   "outputs": [
    {
     "data": {
      "text/plain": [
       "<AxesSubplot:>"
      ]
     },
     "execution_count": 201,
     "metadata": {},
     "output_type": "execute_result"
    },
    {
     "data": {
      "image/png": "[encoded data removed]",
      "text/plain": [
       "<Figure size 432x288 with 2 Axes>"
      ]
     },
     "metadata": {
      "needs_background": "light"
     },
     "output_type": "display_data"
    }
   ],
   "source": [
    "clf_report=classification_report(target_test,predNB,target_names=['Churn(No)','Churn(Yes)'],output_dict=True)\n",
    "sns.heatmap(pd.DataFrame(clf_report).iloc[:-1, :].T, annot=True)"
   ]
  },
  {
   "cell_type": "code",
   "execution_count": 202,
   "metadata": {
    "colab": {
     "base_uri": "https://localhost:8080/"
    },
    "execution": {
     "iopub.execute_input": "2021-11-09T03:53:42.390863Z",
     "iopub.status.busy": "2021-11-09T03:53:42.388123Z",
     "iopub.status.idle": "2021-11-09T03:53:42.405849Z",
     "shell.execute_reply": "2021-11-09T03:53:42.404464Z",
     "shell.execute_reply.started": "2021-11-09T03:53:42.390782Z"
    },
    "id": "VDD59TuGqjkS",
    "outputId": "1d542d0b-2e9f-491c-8fdf-88c45abd01a7"
   },
   "outputs": [
    {
     "data": {
      "text/plain": [
       "0.7666666666666667"
      ]
     },
     "execution_count": 202,
     "metadata": {},
     "output_type": "execute_result"
    }
   ],
   "source": [
    "nb_model.score(features_test,target_test)"
   ]
  },
  {
   "cell_type": "code",
   "execution_count": 203,
   "metadata": {
    "id": "F8Fv1rfJqjkT"
   },
   "outputs": [],
   "source": [
    "cm=confusion_matrix(target_test,predNB)\n",
    "df_confusionmatrixvariable = pd.DataFrame(cm, index=['No','Yes'], columns=['No','Yes'])"
   ]
  },
  {
   "cell_type": "code",
   "execution_count": 204,
   "metadata": {
    "colab": {
     "base_uri": "https://localhost:8080/"
    },
    "id": "O8MtmdBeqjkT",
    "outputId": "d8f0bb9f-0e8b-4e3a-ea7c-2a71b61bf9ca"
   },
   "outputs": [
    {
     "name": "stdout",
     "output_type": "stream",
     "text": [
      "Recall value for Naive BAyes is: 0.8095684803001876\n"
     ]
    }
   ],
   "source": [
    "print(\"Recall value for Naive BAyes is:\", recall_score(target_test,predNB))"
   ]
  },
  {
   "cell_type": "markdown",
   "metadata": {
    "id": "EUmQvwfBqjkT"
   },
   "source": [
    "### Random Forest Classifier"
   ]
  },
  {
   "cell_type": "code",
   "execution_count": 205,
   "metadata": {
    "colab": {
     "base_uri": "https://localhost:8080/"
    },
    "execution": {
     "iopub.execute_input": "2021-11-09T03:53:42.228616Z",
     "iopub.status.busy": "2021-11-09T03:53:42.227007Z",
     "iopub.status.idle": "2021-11-09T03:53:42.319319Z",
     "shell.execute_reply": "2021-11-09T03:53:42.318141Z",
     "shell.execute_reply.started": "2021-11-09T03:53:42.228565Z"
    },
    "id": "SBNQivIqqjkT",
    "outputId": "4fea477b-0e94-40d9-ce6d-eaabcec0696b"
   },
   "outputs": [
    {
     "data": {
      "text/plain": [
       "RandomForestClassifier()"
      ]
     },
     "execution_count": 205,
     "metadata": {},
     "output_type": "execute_result"
    }
   ],
   "source": [
    "from sklearn.ensemble import RandomForestClassifier\n",
    "rf_model = RandomForestClassifier()\n",
    "rf_model.fit(features_train,target_train)"
   ]
  },
  {
   "cell_type": "code",
   "execution_count": 206,
   "metadata": {
    "execution": {
     "iopub.execute_input": "2021-11-09T03:53:42.328549Z",
     "iopub.status.busy": "2021-11-09T03:53:42.325493Z",
     "iopub.status.idle": "2021-11-09T03:53:42.338505Z",
     "shell.execute_reply": "2021-11-09T03:53:42.337265Z",
     "shell.execute_reply.started": "2021-11-09T03:53:42.328497Z"
    },
    "id": "byFBnDVJqjkT"
   },
   "outputs": [],
   "source": [
    "predRF = rf_model.predict(features_test)"
   ]
  },
  {
   "cell_type": "code",
   "execution_count": 207,
   "metadata": {
    "colab": {
     "base_uri": "https://localhost:8080/"
    },
    "execution": {
     "iopub.execute_input": "2021-11-09T03:53:42.348885Z",
     "iopub.status.busy": "2021-11-09T03:53:42.344785Z",
     "iopub.status.idle": "2021-11-09T03:53:42.381860Z",
     "shell.execute_reply": "2021-11-09T03:53:42.380863Z",
     "shell.execute_reply.started": "2021-11-09T03:53:42.348824Z"
    },
    "id": "M-nYpIcPqjkT",
    "outputId": "5fa22575-89f6-4f4f-eb99-f595cfee449a"
   },
   "outputs": [
    {
     "data": {
      "text/plain": [
       "<AxesSubplot:>"
      ]
     },
     "execution_count": 207,
     "metadata": {},
     "output_type": "execute_result"
    },
    {
     "data": {
      "image/png": "[encoded data removed]",
      "text/plain": [
       "<Figure size 432x288 with 2 Axes>"
      ]
     },
     "metadata": {
      "needs_background": "light"
     },
     "output_type": "display_data"
    }
   ],
   "source": [
    "clf_report=classification_report(target_test,predRF,target_names=['Churn(No)','Churn(Yes)'],output_dict=True)\n",
    "sns.heatmap(pd.DataFrame(clf_report).iloc[:-1, :].T, annot=True)"
   ]
  },
  {
   "cell_type": "code",
   "execution_count": 208,
   "metadata": {
    "id": "bBlmp-x8qjkT"
   },
   "outputs": [],
   "source": [
    "cm=confusion_matrix(target_test,predRF)\n",
    "df_confusionmatrixvariable = pd.DataFrame(cm, index=['No','Yes'], columns=['No','Yes'])"
   ]
  },
  {
   "cell_type": "code",
   "execution_count": 209,
   "metadata": {
    "colab": {
     "base_uri": "https://localhost:8080/"
    },
    "id": "GpJGi_iaqjkU",
    "outputId": "343950c5-3039-4926-cfd0-9603ffde52d7"
   },
   "outputs": [
    {
     "name": "stdout",
     "output_type": "stream",
     "text": [
      "Recall value for RFC:  0.8611632270168855\n"
     ]
    }
   ],
   "source": [
    "print(\"Recall value for RFC: \",recall_score(target_test,predRF))"
   ]
  },
  {
   "cell_type": "markdown",
   "metadata": {
    "id": "7aYRA7s3qjkU"
   },
   "source": [
    "### XGBoost"
   ]
  },
  {
   "cell_type": "code",
   "execution_count": 225,
   "metadata": {
    "colab": {
     "base_uri": "https://localhost:8080/"
    },
    "execution": {
     "iopub.execute_input": "2021-11-09T04:07:34.893182Z",
     "iopub.status.busy": "2021-11-09T04:07:34.892360Z",
     "iopub.status.idle": "2021-11-09T04:07:36.257163Z",
     "shell.execute_reply": "2021-11-09T04:07:36.256067Z",
     "shell.execute_reply.started": "2021-11-09T04:07:34.893134Z"
    },
    "id": "2JtF6KRUqjkU",
    "outputId": "f10b77b2-484f-4373-c394-1dff88b8d96b"
   },
   "outputs": [
    {
     "name": "stderr",
     "output_type": "stream",
     "text": [
      "C:\\Users\\kiran\\anaconda3\\lib\\site-packages\\xgboost\\sklearn.py:1224: UserWarning: The use of label encoder in XGBClassifier is deprecated and will be removed in a future release. To remove this warning, do the following: 1) Pass option use_label_encoder=False when constructing XGBClassifier object; and 2) Encode your labels (y) as integers starting with 0, i.e. 0, 1, 2, ..., [num_class - 1].\n",
      "  warnings.warn(label_encoder_deprecation_msg, UserWarning)\n"
     ]
    },
    {
     "name": "stdout",
     "output_type": "stream",
     "text": [
      "[18:45:31] WARNING: D:\\bld\\xgboost-split_1645118015404\\work\\src\\learner.cc:1115: Starting in XGBoost 1.3.0, the default evaluation metric used with the objective 'binary:logistic' was changed from 'error' to 'logloss'. Explicitly set eval_metric if you'd like to restore the old behavior.\n"
     ]
    },
    {
     "data": {
      "text/plain": [
       "XGBClassifier(base_score=0.5, booster='gbtree', colsample_bylevel=1,\n",
       "              colsample_bynode=1, colsample_bytree=1, enable_categorical=False,\n",
       "              gamma=0, gpu_id=-1, importance_type=None,\n",
       "              interaction_constraints='', learning_rate=0.300000012,\n",
       "              max_delta_step=0, max_depth=6, min_child_weight=1, missing=nan,\n",
       "              monotone_constraints='()', n_estimators=100, n_jobs=8,\n",
       "              num_parallel_tree=1, predictor='auto', random_state=0,\n",
       "              reg_alpha=0, reg_lambda=1, scale_pos_weight=1, subsample=1,\n",
       "              tree_method='exact', validate_parameters=1, verbosity=None)"
      ]
     },
     "execution_count": 225,
     "metadata": {},
     "output_type": "execute_result"
    }
   ],
   "source": [
    "from xgboost import XGBClassifier\n",
    "xgb_model = XGBClassifier()\n",
    "xgb_model.fit(features_train, target_train)"
   ]
  },
  {
   "cell_type": "code",
   "execution_count": 226,
   "metadata": {
    "id": "vzmARKoyqjkU"
   },
   "outputs": [],
   "source": [
    "predXGB = xgb_model.predict(features_test)"
   ]
  },
  {
   "cell_type": "code",
   "execution_count": 227,
   "metadata": {
    "colab": {
     "base_uri": "https://localhost:8080/",
     "height": 282
    },
    "execution": {
     "iopub.execute_input": "2021-11-09T03:53:42.348885Z",
     "iopub.status.busy": "2021-11-09T03:53:42.344785Z",
     "iopub.status.idle": "2021-11-09T03:53:42.381860Z",
     "shell.execute_reply": "2021-11-09T03:53:42.380863Z",
     "shell.execute_reply.started": "2021-11-09T03:53:42.348824Z"
    },
    "id": "azEfbYT9qjkU",
    "outputId": "70a7048e-a729-460d-e52c-57f265b8542e"
   },
   "outputs": [
    {
     "data": {
      "text/plain": [
       "<AxesSubplot:>"
      ]
     },
     "execution_count": 227,
     "metadata": {},
     "output_type": "execute_result"
    },
    {
     "data": {
      "image/png": "[encoded data removed]",
      "text/plain": [
       "<Figure size 432x288 with 2 Axes>"
      ]
     },
     "metadata": {
      "needs_background": "light"
     },
     "output_type": "display_data"
    }
   ],
   "source": [
    "clf_report=classification_report(target_test,predXGB,target_names=['Churn(No)','Churn(Yes)'],output_dict=True)\n",
    "sns.heatmap(pd.DataFrame(clf_report).iloc[:-1, :].T, annot=True)"
   ]
  },
  {
   "cell_type": "code",
   "execution_count": 213,
   "metadata": {
    "colab": {
     "base_uri": "https://localhost:8080/"
    },
    "execution": {
     "iopub.execute_input": "2021-11-09T03:53:42.390863Z",
     "iopub.status.busy": "2021-11-09T03:53:42.388123Z",
     "iopub.status.idle": "2021-11-09T03:53:42.405849Z",
     "shell.execute_reply": "2021-11-09T03:53:42.404464Z",
     "shell.execute_reply.started": "2021-11-09T03:53:42.390782Z"
    },
    "id": "4wZ7rOlNqjkU",
    "outputId": "509766be-84fa-4a06-aae4-1364f0e4f787"
   },
   "outputs": [
    {
     "data": {
      "text/plain": [
       "0.8536231884057971"
      ]
     },
     "execution_count": 213,
     "metadata": {},
     "output_type": "execute_result"
    }
   ],
   "source": [
    "xgb_model.score(features_test,target_test)"
   ]
  },
  {
   "cell_type": "code",
   "execution_count": 214,
   "metadata": {
    "id": "4elfGDfPqjkU"
   },
   "outputs": [],
   "source": [
    "cm=confusion_matrix(target_test,predXGB)\n",
    "df_confusionmatrixvariable = pd.DataFrame(cm, index=['No','Yes'], columns=['No','Yes'])"
   ]
  },
  {
   "cell_type": "code",
   "execution_count": 215,
   "metadata": {
    "colab": {
     "base_uri": "https://localhost:8080/"
    },
    "id": "L5cV1Mm4qjkU",
    "outputId": "cd1deb26-9784-4bc1-8ac6-4c819c7e4401"
   },
   "outputs": [
    {
     "name": "stdout",
     "output_type": "stream",
     "text": [
      "Recall value for XGBoost is : 0.8583489681050657\n"
     ]
    }
   ],
   "source": [
    "print(\"Recall value for XGBoost is :\", recall_score(target_test,predXGB))"
   ]
  },
  {
   "cell_type": "markdown",
   "metadata": {
    "id": "LjGz_pfcsh5T"
   },
   "source": [
    "## Hyper parameter Tuning ( Random Forest and XGBoost)"
   ]
  },
  {
   "cell_type": "code",
   "execution_count": 216,
   "metadata": {
    "colab": {
     "base_uri": "https://localhost:8080/"
    },
    "execution": {
     "iopub.execute_input": "2021-11-09T03:53:43.888781Z",
     "iopub.status.busy": "2021-11-09T03:53:43.888028Z",
     "iopub.status.idle": "2021-11-09T03:54:17.353014Z",
     "shell.execute_reply": "2021-11-09T03:54:17.350772Z",
     "shell.execute_reply.started": "2021-11-09T03:53:43.888734Z"
    },
    "id": "h_LusF4Fsh5U",
    "outputId": "e3e8ecda-37cc-4eeb-8913-433cd2f9f19f"
   },
   "outputs": [
    {
     "name": "stdout",
     "output_type": "stream",
     "text": [
      "Fitting 5 folds for each of 10 candidates, totalling 50 fits\n"
     ]
    },
    {
     "name": "stderr",
     "output_type": "stream",
     "text": [
      "C:\\Users\\kiran\\anaconda3\\lib\\site-packages\\xgboost\\sklearn.py:1224: UserWarning: The use of label encoder in XGBClassifier is deprecated and will be removed in a future release. To remove this warning, do the following: 1) Pass option use_label_encoder=False when constructing XGBClassifier object; and 2) Encode your labels (y) as integers starting with 0, i.e. 0, 1, 2, ..., [num_class - 1].\n",
      "  warnings.warn(label_encoder_deprecation_msg, UserWarning)\n"
     ]
    },
    {
     "name": "stdout",
     "output_type": "stream",
     "text": [
      "[18:45:17] WARNING: D:\\bld\\xgboost-split_1645118015404\\work\\src\\learner.cc:1115: Starting in XGBoost 1.3.0, the default evaluation metric used with the objective 'binary:logistic' was changed from 'error' to 'logloss'. Explicitly set eval_metric if you'd like to restore the old behavior.\n"
     ]
    },
    {
     "data": {
      "text/plain": [
       "RandomizedSearchCV(cv=5,\n",
       "                   estimator=XGBClassifier(base_score=0.5, booster='gbtree',\n",
       "                                           colsample_bylevel=1,\n",
       "                                           colsample_bynode=1,\n",
       "                                           colsample_bytree=1,\n",
       "                                           enable_categorical=False, gamma=0,\n",
       "                                           gpu_id=-1, importance_type=None,\n",
       "                                           interaction_constraints='',\n",
       "                                           learning_rate=0.300000012,\n",
       "                                           max_delta_step=0, max_depth=6,\n",
       "                                           min_child_weight=1, missing=nan,\n",
       "                                           monotone_constraints='()',\n",
       "                                           n_estimators=100, n_jobs=8,\n",
       "                                           num_parallel_tree=1,\n",
       "                                           predictor='auto', random_state=0,\n",
       "                                           reg_alpha=0, reg_lambda=1,\n",
       "                                           scale_pos_weight=1, subsample=1,\n",
       "                                           tree_method='exact',\n",
       "                                           validate_parameters=1,\n",
       "                                           verbosity=None),\n",
       "                   n_jobs=-1,\n",
       "                   param_distributions={'learning_rate': [0.1, 0.2, 0.3],\n",
       "                                        'max_depth': [6, 10, 15, 20]},\n",
       "                   scoring='recall', verbose=1)"
      ]
     },
     "execution_count": 216,
     "metadata": {},
     "output_type": "execute_result"
    }
   ],
   "source": [
    "from sklearn.model_selection import GridSearchCV,RandomizedSearchCV\n",
    "random_params_xgb={\n",
    "'learning_rate' : [0.1,  0.2,  0.3],\n",
    "'max_depth' : [ 6,10,15,20],\n",
    "}\n",
    "random_search = RandomizedSearchCV(xgb_model, random_params_xgb, scoring='recall',cv = 5, n_jobs = -1, verbose = 1)\n",
    "random_search.fit(features_train, target_train)"
   ]
  },
  {
   "cell_type": "code",
   "execution_count": 228,
   "metadata": {
    "colab": {
     "base_uri": "https://localhost:8080/"
    },
    "id": "ri2M_swysh5U",
    "outputId": "4ad56a74-f3a5-4bc5-97dd-dd6d9c7b2c35"
   },
   "outputs": [
    {
     "name": "stdout",
     "output_type": "stream",
     "text": [
      "XGBClassifier(base_score=0.5, booster='gbtree', colsample_bylevel=1,\n",
      "              colsample_bynode=1, colsample_bytree=1, enable_categorical=False,\n",
      "              gamma=0, gpu_id=-1, importance_type=None,\n",
      "              interaction_constraints='', learning_rate=0.1, max_delta_step=0,\n",
      "              max_depth=10, min_child_weight=1, missing=nan,\n",
      "              monotone_constraints='()', n_estimators=100, n_jobs=8,\n",
      "              num_parallel_tree=1, predictor='auto', random_state=0,\n",
      "              reg_alpha=0, reg_lambda=1, scale_pos_weight=1, subsample=1,\n",
      "              tree_method='exact', validate_parameters=1, verbosity=None)\n",
      "0.8610050647391615\n"
     ]
    }
   ],
   "source": [
    "print(random_search.best_estimator_)\n",
    "print(random_search.best_score_)"
   ]
  },
  {
   "cell_type": "code",
   "execution_count": 231,
   "metadata": {
    "colab": {
     "base_uri": "https://localhost:8080/"
    },
    "id": "34k479J6sh5U",
    "outputId": "f77f7233-f3f3-44f1-981f-2a1408aa3a39"
   },
   "outputs": [
    {
     "name": "stdout",
     "output_type": "stream",
     "text": [
      "[18:48:00] WARNING: D:\\bld\\xgboost-split_1645118015404\\work\\src\\learner.cc:1115: Starting in XGBoost 1.3.0, the default evaluation metric used with the objective 'binary:logistic' was changed from 'error' to 'logloss'. Explicitly set eval_metric if you'd like to restore the old behavior.\n"
     ]
    },
    {
     "data": {
      "text/plain": [
       "XGBClassifier(base_score=0.5, booster='gbtree', colsample_bylevel=1,\n",
       "              colsample_bynode=1, colsample_bytree=1, enable_categorical=False,\n",
       "              gamma=0, gpu_id=-1, importance_type=None,\n",
       "              interaction_constraints='', learning_rate=0.1, max_delta_step=0,\n",
       "              max_depth=10, min_child_weight=1, missing=nan,\n",
       "              monotone_constraints='()', n_estimators=100, n_jobs=8,\n",
       "              num_parallel_tree=1, predictor='auto', random_state=0,\n",
       "              reg_alpha=0, reg_lambda=1, scale_pos_weight=1, subsample=1,\n",
       "              tree_method='exact', validate_parameters=1, verbosity=None)"
      ]
     },
     "execution_count": 231,
     "metadata": {},
     "output_type": "execute_result"
    }
   ],
   "source": [
    "xgb_model=random_search.best_estimator_\n",
    "xgb_model.fit(features_train, target_train)"
   ]
  },
  {
   "cell_type": "code",
   "execution_count": 244,
   "metadata": {
    "id": "z1evRbFWsh5U"
   },
   "outputs": [],
   "source": [
    "predXGB = xgb_model.predict(features_test)"
   ]
  },
  {
   "cell_type": "code",
   "execution_count": 233,
   "metadata": {
    "colab": {
     "base_uri": "https://localhost:8080/"
    },
    "id": "GflGrQsKsh5U",
    "outputId": "e9ecd324-7fb9-4f0a-f806-b26aa569fac5"
   },
   "outputs": [
    {
     "data": {
      "text/plain": [
       "0.8621013133208255"
      ]
     },
     "execution_count": 233,
     "metadata": {},
     "output_type": "execute_result"
    }
   ],
   "source": [
    "recall_score(target_test,predXGB)"
   ]
  },
  {
   "cell_type": "code",
   "execution_count": 221,
   "metadata": {
    "colab": {
     "base_uri": "https://localhost:8080/",
     "height": 282
    },
    "execution": {
     "iopub.execute_input": "2021-11-09T03:53:42.348885Z",
     "iopub.status.busy": "2021-11-09T03:53:42.344785Z",
     "iopub.status.idle": "2021-11-09T03:53:42.381860Z",
     "shell.execute_reply": "2021-11-09T03:53:42.380863Z",
     "shell.execute_reply.started": "2021-11-09T03:53:42.348824Z"
    },
    "id": "crXNOvk3sh5U",
    "outputId": "94c12fac-852a-44d5-e9e3-ffd4b412383c"
   },
   "outputs": [
    {
     "data": {
      "text/plain": [
       "<AxesSubplot:>"
      ]
     },
     "execution_count": 221,
     "metadata": {},
     "output_type": "execute_result"
    },
    {
     "data": {
      "image/png": "[encoded data removed]",
      "text/plain": [
       "<Figure size 432x288 with 2 Axes>"
      ]
     },
     "metadata": {
      "needs_background": "light"
     },
     "output_type": "display_data"
    }
   ],
   "source": [
    "clf_report=classification_report(target_test,predXGB,target_names=['Churn(No)','Churn(Yes)'],output_dict=True)\n",
    "sns.heatmap(pd.DataFrame(clf_report).iloc[:-1, :].T, annot=True)"
   ]
  },
  {
   "cell_type": "code",
   "execution_count": 222,
   "metadata": {
    "colab": {
     "base_uri": "https://localhost:8080/"
    },
    "execution": {
     "iopub.execute_input": "2021-11-09T03:53:42.390863Z",
     "iopub.status.busy": "2021-11-09T03:53:42.388123Z",
     "iopub.status.idle": "2021-11-09T03:53:42.405849Z",
     "shell.execute_reply": "2021-11-09T03:53:42.404464Z",
     "shell.execute_reply.started": "2021-11-09T03:53:42.390782Z"
    },
    "id": "EcdXzi_ssh5V",
    "outputId": "234cf952-4895-45e9-8700-448535bc0e41"
   },
   "outputs": [
    {
     "data": {
      "text/plain": [
       "0.8565217391304348"
      ]
     },
     "execution_count": 222,
     "metadata": {},
     "output_type": "execute_result"
    }
   ],
   "source": [
    "xgb_model.score(features_test,target_test)"
   ]
  },
  {
   "cell_type": "code",
   "execution_count": 234,
   "metadata": {
    "id": "4X22Y7bdsh5V"
   },
   "outputs": [],
   "source": [
    "cm=confusion_matrix(target_test,predXGB)\n",
    "df_confusionmatrixvariable = pd.DataFrame(cm, index=['No','Yes'], columns=['No','Yes'])"
   ]
  },
  {
   "cell_type": "code",
   "execution_count": 235,
   "metadata": {
    "colab": {
     "base_uri": "https://localhost:8080/"
    },
    "id": "D2PSFNzEsh5V",
    "outputId": "f4d022eb-1851-4cf6-a184-ab63f8e1ff8a"
   },
   "outputs": [
    {
     "name": "stdout",
     "output_type": "stream",
     "text": [
      "Fitting 5 folds for each of 10 candidates, totalling 50 fits\n"
     ]
    },
    {
     "name": "stderr",
     "output_type": "stream",
     "text": [
      "C:\\Users\\kiran\\anaconda3\\lib\\site-packages\\sklearn\\model_selection\\_validation.py:372: FitFailedWarning: \n",
      "15 fits failed out of a total of 50.\n",
      "The score on these train-test partitions for these parameters will be set to nan.\n",
      "If these failures are not expected, you can try to debug them by setting error_score='raise'.\n",
      "\n",
      "Below are more details about the failures:\n",
      "--------------------------------------------------------------------------------\n",
      "10 fits failed with the following error:\n",
      "Traceback (most recent call last):\n",
      "  File \"C:\\Users\\kiran\\anaconda3\\lib\\site-packages\\sklearn\\model_selection\\_validation.py\", line 680, in _fit_and_score\n",
      "    estimator.fit(X_train, y_train, **fit_params)\n",
      "  File \"C:\\Users\\kiran\\anaconda3\\lib\\site-packages\\sklearn\\ensemble\\_forest.py\", line 450, in fit\n",
      "    trees = Parallel(\n",
      "  File \"C:\\Users\\kiran\\anaconda3\\lib\\site-packages\\joblib\\parallel.py\", line 1043, in __call__\n",
      "    if self.dispatch_one_batch(iterator):\n",
      "  File \"C:\\Users\\kiran\\anaconda3\\lib\\site-packages\\joblib\\parallel.py\", line 861, in dispatch_one_batch\n",
      "    self._dispatch(tasks)\n",
      "  File \"C:\\Users\\kiran\\anaconda3\\lib\\site-packages\\joblib\\parallel.py\", line 779, in _dispatch\n",
      "    job = self._backend.apply_async(batch, callback=cb)\n",
      "  File \"C:\\Users\\kiran\\anaconda3\\lib\\site-packages\\joblib\\_parallel_backends.py\", line 208, in apply_async\n",
      "    result = ImmediateResult(func)\n",
      "  File \"C:\\Users\\kiran\\anaconda3\\lib\\site-packages\\joblib\\_parallel_backends.py\", line 572, in __init__\n",
      "    self.results = batch()\n",
      "  File \"C:\\Users\\kiran\\anaconda3\\lib\\site-packages\\joblib\\parallel.py\", line 262, in __call__\n",
      "    return [func(*args, **kwargs)\n",
      "  File \"C:\\Users\\kiran\\anaconda3\\lib\\site-packages\\joblib\\parallel.py\", line 262, in <listcomp>\n",
      "    return [func(*args, **kwargs)\n",
      "  File \"C:\\Users\\kiran\\anaconda3\\lib\\site-packages\\sklearn\\utils\\fixes.py\", line 216, in __call__\n",
      "    return self.function(*args, **kwargs)\n",
      "  File \"C:\\Users\\kiran\\anaconda3\\lib\\site-packages\\sklearn\\ensemble\\_forest.py\", line 185, in _parallel_build_trees\n",
      "    tree.fit(X, y, sample_weight=curr_sample_weight, check_input=False)\n",
      "  File \"C:\\Users\\kiran\\anaconda3\\lib\\site-packages\\sklearn\\tree\\_classes.py\", line 937, in fit\n",
      "    super().fit(\n",
      "  File \"C:\\Users\\kiran\\anaconda3\\lib\\site-packages\\sklearn\\tree\\_classes.py\", line 306, in fit\n",
      "    raise ValueError(\"max_depth must be greater than zero. \")\n",
      "ValueError: max_depth must be greater than zero. \n",
      "\n",
      "--------------------------------------------------------------------------------\n",
      "5 fits failed with the following error:\n",
      "Traceback (most recent call last):\n",
      "  File \"C:\\Users\\kiran\\anaconda3\\lib\\site-packages\\sklearn\\model_selection\\_validation.py\", line 680, in _fit_and_score\n",
      "    estimator.fit(X_train, y_train, **fit_params)\n",
      "  File \"C:\\Users\\kiran\\anaconda3\\lib\\site-packages\\sklearn\\ensemble\\_forest.py\", line 450, in fit\n",
      "    trees = Parallel(\n",
      "  File \"C:\\Users\\kiran\\anaconda3\\lib\\site-packages\\joblib\\parallel.py\", line 1043, in __call__\n",
      "    if self.dispatch_one_batch(iterator):\n",
      "  File \"C:\\Users\\kiran\\anaconda3\\lib\\site-packages\\joblib\\parallel.py\", line 861, in dispatch_one_batch\n",
      "    self._dispatch(tasks)\n",
      "  File \"C:\\Users\\kiran\\anaconda3\\lib\\site-packages\\joblib\\parallel.py\", line 779, in _dispatch\n",
      "    job = self._backend.apply_async(batch, callback=cb)\n",
      "  File \"C:\\Users\\kiran\\anaconda3\\lib\\site-packages\\joblib\\_parallel_backends.py\", line 208, in apply_async\n",
      "    result = ImmediateResult(func)\n",
      "  File \"C:\\Users\\kiran\\anaconda3\\lib\\site-packages\\joblib\\_parallel_backends.py\", line 572, in __init__\n",
      "    self.results = batch()\n",
      "  File \"C:\\Users\\kiran\\anaconda3\\lib\\site-packages\\joblib\\parallel.py\", line 262, in __call__\n",
      "    return [func(*args, **kwargs)\n",
      "  File \"C:\\Users\\kiran\\anaconda3\\lib\\site-packages\\joblib\\parallel.py\", line 262, in <listcomp>\n",
      "    return [func(*args, **kwargs)\n",
      "  File \"C:\\Users\\kiran\\anaconda3\\lib\\site-packages\\sklearn\\utils\\fixes.py\", line 216, in __call__\n",
      "    return self.function(*args, **kwargs)\n",
      "  File \"C:\\Users\\kiran\\anaconda3\\lib\\site-packages\\sklearn\\ensemble\\_forest.py\", line 185, in _parallel_build_trees\n",
      "    tree.fit(X, y, sample_weight=curr_sample_weight, check_input=False)\n",
      "  File \"C:\\Users\\kiran\\anaconda3\\lib\\site-packages\\sklearn\\tree\\_classes.py\", line 937, in fit\n",
      "    super().fit(\n",
      "  File \"C:\\Users\\kiran\\anaconda3\\lib\\site-packages\\sklearn\\tree\\_classes.py\", line 250, in fit\n",
      "    raise ValueError(\n",
      "ValueError: min_samples_split must be an integer greater than 1 or a float in (0.0, 1.0]; got the integer 1\n",
      "\n",
      "  warnings.warn(some_fits_failed_message, FitFailedWarning)\n",
      "C:\\Users\\kiran\\anaconda3\\lib\\site-packages\\sklearn\\model_selection\\_search.py:969: UserWarning: One or more of the test scores are non-finite: [0.84834411 0.83909155 0.85686377        nan 0.85856694 0.83811802\n",
      " 0.83519801 0.83738927        nan        nan]\n",
      "  warnings.warn(\n"
     ]
    },
    {
     "name": "stdout",
     "output_type": "stream",
     "text": [
      "RandomForestClassifier(max_depth=7, min_samples_leaf=2, min_samples_split=7,\n",
      "                       n_estimators=200)\n",
      "0.8585669366477887\n"
     ]
    }
   ],
   "source": [
    "random_params_RF = {\n",
    "    'criterion' : ['gini', 'entropy'],\n",
    "    'max_depth' : [0,3, 5, 7, 10],\n",
    "    'min_samples_split' : range(1, 10, 1),\n",
    "    'min_samples_leaf' : range(1, 10, 1),\n",
    "    'n_estimators':[100,200,400,600,800]\n",
    "}\n",
    "random_search_RF = RandomizedSearchCV(rf_model, random_params_RF, scoring='recall',cv = 5, n_jobs = -1, verbose = 1)\n",
    "random_search_RF.fit(features_train, target_train)\n",
    "print(random_search_RF.best_estimator_)\n",
    "print(random_search_RF.best_score_)"
   ]
  },
  {
   "cell_type": "code",
   "execution_count": 236,
   "metadata": {
    "execution": {
     "iopub.execute_input": "2021-11-09T03:54:17.356050Z",
     "iopub.status.busy": "2021-11-09T03:54:17.355183Z",
     "iopub.status.idle": "2021-11-09T03:54:17.365157Z",
     "shell.execute_reply": "2021-11-09T03:54:17.364112Z",
     "shell.execute_reply.started": "2021-11-09T03:54:17.355987Z"
    },
    "id": "ztkbvcXwsh5V"
   },
   "outputs": [],
   "source": [
    "rf_model = random_search_RF.best_estimator_\n",
    "rf_model.fit(features_train,target_train)\n",
    "predRF = rf_model.predict(features_test)"
   ]
  },
  {
   "cell_type": "code",
   "execution_count": 237,
   "metadata": {
    "colab": {
     "base_uri": "https://localhost:8080/"
    },
    "execution": {
     "iopub.execute_input": "2021-11-09T03:54:17.382763Z",
     "iopub.status.busy": "2021-11-09T03:54:17.381597Z",
     "iopub.status.idle": "2021-11-09T03:54:17.392244Z",
     "shell.execute_reply": "2021-11-09T03:54:17.391120Z",
     "shell.execute_reply.started": "2021-11-09T03:54:17.382704Z"
    },
    "id": "eM2iAdSvsh5V",
    "outputId": "ee7d3bfb-f58c-46d7-fa4a-a7b2223dd2a9"
   },
   "outputs": [
    {
     "data": {
      "text/plain": [
       "0.8260869565217391"
      ]
     },
     "execution_count": 237,
     "metadata": {},
     "output_type": "execute_result"
    }
   ],
   "source": [
    "rf_model.score(features_test,target_test)"
   ]
  },
  {
   "cell_type": "code",
   "execution_count": 238,
   "metadata": {
    "execution": {
     "iopub.execute_input": "2021-11-09T03:53:42.328549Z",
     "iopub.status.busy": "2021-11-09T03:53:42.325493Z",
     "iopub.status.idle": "2021-11-09T03:53:42.338505Z",
     "shell.execute_reply": "2021-11-09T03:53:42.337265Z",
     "shell.execute_reply.started": "2021-11-09T03:53:42.328497Z"
    },
    "id": "eHfgkuq8sh5V"
   },
   "outputs": [],
   "source": [
    "predRF = rf_model.predict(features_test)"
   ]
  },
  {
   "cell_type": "code",
   "execution_count": 239,
   "metadata": {
    "colab": {
     "base_uri": "https://localhost:8080/",
     "height": 282
    },
    "execution": {
     "iopub.execute_input": "2021-11-09T03:53:42.348885Z",
     "iopub.status.busy": "2021-11-09T03:53:42.344785Z",
     "iopub.status.idle": "2021-11-09T03:53:42.381860Z",
     "shell.execute_reply": "2021-11-09T03:53:42.380863Z",
     "shell.execute_reply.started": "2021-11-09T03:53:42.348824Z"
    },
    "id": "Ip6bO7F2sh5V",
    "outputId": "79cf0c5d-a2d9-4b67-fdbb-85f2e0f49a3d"
   },
   "outputs": [
    {
     "data": {
      "text/plain": [
       "<AxesSubplot:>"
      ]
     },
     "execution_count": 239,
     "metadata": {},
     "output_type": "execute_result"
    },
    {
     "data": {
      "image/png": "[encoded data removed]",
      "text/plain": [
       "<Figure size 432x288 with 2 Axes>"
      ]
     },
     "metadata": {
      "needs_background": "light"
     },
     "output_type": "display_data"
    }
   ],
   "source": [
    "clf_report=classification_report(target_test,predRF,target_names=['Churn(No)','Churn(Yes)'],output_dict=True)\n",
    "sns.heatmap(pd.DataFrame(clf_report).iloc[:-1, :].T, annot=True)"
   ]
  },
  {
   "cell_type": "code",
   "execution_count": 243,
   "metadata": {
    "id": "jn3PWY8Hsh5V"
   },
   "outputs": [
    {
     "data": {
      "text/html": [
       "<div>\n",
       "<style scoped>\n",
       "    .dataframe tbody tr th:only-of-type {\n",
       "        vertical-align: middle;\n",
       "    }\n",
       "\n",
       "    .dataframe tbody tr th {\n",
       "        vertical-align: top;\n",
       "    }\n",
       "\n",
       "    .dataframe thead th {\n",
       "        text-align: right;\n",
       "    }\n",
       "</style>\n",
       "<table border=\"1\" class=\"dataframe\">\n",
       "  <thead>\n",
       "    <tr style=\"text-align: right;\">\n",
       "      <th></th>\n",
       "      <th>No</th>\n",
       "      <th>Yes</th>\n",
       "    </tr>\n",
       "  </thead>\n",
       "  <tbody>\n",
       "    <tr>\n",
       "      <th>No</th>\n",
       "      <td>780</td>\n",
       "      <td>224</td>\n",
       "    </tr>\n",
       "    <tr>\n",
       "      <th>Yes</th>\n",
       "      <td>136</td>\n",
       "      <td>930</td>\n",
       "    </tr>\n",
       "  </tbody>\n",
       "</table>\n",
       "</div>"
      ],
      "text/plain": [
       "      No  Yes\n",
       "No   780  224\n",
       "Yes  136  930"
      ]
     },
     "execution_count": 243,
     "metadata": {},
     "output_type": "execute_result"
    }
   ],
   "source": [
    "cm=confusion_matrix(target_test,predRF)\n",
    "df_confusionmatrixvariable = pd.DataFrame(cm, index=['No','Yes'], columns=['No','Yes'])\n",
    "df_confusionmatrixvariable"
   ]
  },
  {
   "cell_type": "code",
   "execution_count": 242,
   "metadata": {
    "colab": {
     "base_uri": "https://localhost:8080/"
    },
    "id": "aVhzhn_Rsh5W",
    "outputId": "88476285-b158-45a3-8de7-398794f5570d"
   },
   "outputs": [
    {
     "data": {
      "text/plain": [
       "0.8724202626641651"
      ]
     },
     "execution_count": 242,
     "metadata": {},
     "output_type": "execute_result"
    }
   ],
   "source": [
    "recall_score(target_test,predRF)"
   ]
  }
 ],
 "metadata": {
  "colab": {
   "collapsed_sections": [],
   "name": "proj2.ipynb",
   "provenance": [],
   "toc_visible": true
  },
  "kernelspec": {
   "display_name": "Python 3 (ipykernel)",
   "language": "python",
   "name": "python3"
  },
  "language_info": {
   "codemirror_mode": {
    "name": "ipython",
    "version": 3
   },
   "file_extension": ".py",
   "mimetype": "text/x-python",
   "name": "python",
   "nbconvert_exporter": "python",
   "pygments_lexer": "ipython3",
   "version": "3.9.7"
  }
 },
 "nbformat": 4,
 "nbformat_minor": 1
}
